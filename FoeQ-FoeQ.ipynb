{
 "cells": [
  {
   "cell_type": "code",
   "execution_count": null,
   "id": "3523cc11-a0ad-42d8-a849-e66b91d19d9d",
   "metadata": {},
   "outputs": [],
   "source": [
    "#Colab"
   ]
  },
  {
   "cell_type": "code",
   "execution_count": 23,
   "id": "4ac81b6e-1d16-4238-8432-b75b378a9978",
   "metadata": {},
   "outputs": [],
   "source": [
    "import numpy as np\n",
    "import matplotlib.pyplot as plt\n",
    "import time\n",
    "import cvxpy as cp\n",
    "from numpy import array, eye, hstack, ones, vstack, zeros\n",
    "import copy\n",
    "from cvxopt import matrix, solvers\n",
    "import pandas as pd\n",
    "solvers.options['show_progress'] = False"
   ]
  },
  {
   "cell_type": "code",
   "execution_count": 24,
   "id": "39f226e2-aee3-4604-b028-83cb290c7097",
   "metadata": {},
   "outputs": [],
   "source": [
    "class soccer_game():\n",
    "    \n",
    "    def __init__(self, playerA, playerB):\n",
    "        self.player1 = playerA\n",
    "        self.player2 = playerB\n",
    "        \n",
    "        self.rows = 2\n",
    "        self.columns = 4\n",
    "        \n",
    "        self.player1_goal = [0,4]\n",
    "        self.player2_goal = [3,7]\n",
    "        \n",
    "        self.ball = np.random.randint(2) #0 or 1 at random\n",
    "        \n",
    "        self.ball_possession = playerA.pos\n",
    "        \n",
    "       \n",
    "    def make(self, randomize = False):\n",
    "        available_cells = [1,2,5,6]\n",
    "        \n",
    "        random_cell = np.random.choice(len(available_cells), 2, replace=False)\n",
    "        \n",
    "        if randomize:\n",
    "            \n",
    "            playerA.pos = available_cells[random_cell[0]]\n",
    "            playerB.pos = available_cells[random_cell[1]]\n",
    "            \n",
    "            if np.random.randint(2)==0:\n",
    "                self.ball = playerA.ball\n",
    "                self.ball_possession = playerA.pos\n",
    "            else:\n",
    "                self.ball = playerB.ball\n",
    "                self.ball_possession = playerB.pos\n",
    "                \n",
    "        else:\n",
    "            \n",
    "            playerA.pos = 2\n",
    "            playerB.pos = 1\n",
    "            self.ball = playerB.ball\n",
    "            self.ball_possession = playerB.pos\n",
    "            \n",
    "    def move(self, player, action):\n",
    "        \n",
    "        if action == 0 and player.pos>3:\n",
    "            new_loc = player.pos - 4\n",
    "            \n",
    "        elif action ==1 and player.pos not in self.player2_goal:\n",
    "            new_loc = player.pos + 1\n",
    "            \n",
    "        elif action == 2 and player.pos<4:\n",
    "            new_loc = player.pos + 4\n",
    "            \n",
    "        elif action == 3 and player.pos not in self.player1_goal:\n",
    "            new_loc = player.pos - 1\n",
    "            \n",
    "        else:\n",
    "            new_loc = player.pos\n",
    "            \n",
    "        return new_loc\n",
    "        \n",
    "    def actions(self, player1, player2, action1, action2):\n",
    "        new_loc1 = self.move(player1, action1)\n",
    "        new_loc2 = self.move(player2, action2)\n",
    "        \n",
    "        if new_loc1 != player2.pos: #Always player1 moves first\n",
    "            player1.pos = new_loc1 #moving to the available cell\n",
    "        else:\n",
    "            self.ball = player2.ball #Ball moves to opponent if the cell is occupied\n",
    "            \n",
    "        if new_loc2 != player1.pos:\n",
    "            player2.pos = new_loc2\n",
    "        else:\n",
    "            self.ball = player1.ball\n",
    "            \n",
    "        if self.ball:                              \n",
    "            self.ball_possession = player1.pos\n",
    "        else:\n",
    "            self.ball_possession = player2.pos\n",
    "            \n",
    "    def step(self, action1, action2):\n",
    "        \n",
    "        p1 = self.player1\n",
    "        p2 = self.player2\n",
    "        \n",
    "        if np.random.randint(2)==0:\n",
    "            self.actions(p1, p2, action1, action2)\n",
    "        else:\n",
    "            self.actions(p2, p1, action2, action1)\n",
    "            \n",
    "        if self.ball_possession in self.player1_goal:\n",
    "            reward_1 = 100\n",
    "            reward_2 = -100\n",
    "            end = 1\n",
    "            #print(\"Goal by PlayerA!\")\n",
    "        \n",
    "        elif self.ball_possession in self.player2_goal:\n",
    "            reward_1 = -100\n",
    "            reward_2 = 100\n",
    "            end = 1\n",
    "            #print(\"Goal by PlayerB!\")\n",
    "            \n",
    "        else:\n",
    "            reward_1 = 0\n",
    "            reward_2 = 0\n",
    "            end = 0\n",
    "            \n",
    "        return self.state(), reward_1, reward_2, end\n",
    "    \n",
    "    def state(self):\n",
    "        return [playerA.pos, playerB.pos, env.ball]\n",
    "\n",
    "\n",
    "class player():\n",
    "\n",
    "    def __init__(self, name=\"\", ball = None):\n",
    "        self.name = name\n",
    "        self.score = 0\n",
    "        self.pos = 0\n",
    "        self.ball = ball\n",
    "        print(\"Player {} Created\".format(name))\n"
   ]
  },
  {
   "cell_type": "code",
   "execution_count": 25,
   "id": "2d3b43a4-1b90-40be-b9df-74d11fb39b9e",
   "metadata": {},
   "outputs": [],
   "source": [
    "import matplotlib\n",
    "def graph_error(error_list, iter_list, name=\"Q Learning\", linewidth = 1):\n",
    "    plt.figure(figsize=[8,8])\n",
    "    matplotlib.rc('xtick', labelsize=15) \n",
    "    matplotlib.rc('ytick', labelsize=15)\n",
    "    plt.plot(iter_list, error_list, linewidth = linewidth)\n",
    "    plt.ticklabel_format(style='sci', axis='x', scilimits=(0, 0))\n",
    "    plt.title(name)\n",
    "    plt.xlabel('Iteration')\n",
    "    plt.ylim(0, 0.5)\n",
    "    plt.ylabel('Q Value Difference')\n",
    "    plt.show()\n",
    "    plt.gcf().clear()"
   ]
  },
  {
   "cell_type": "code",
   "execution_count": null,
   "id": "33fe3bc1",
   "metadata": {},
   "outputs": [],
   "source": [
    "def solve_LP(mat):\n",
    "\n",
    "  A = copy.copy(mat.T)\n",
    "  #A = copy.copy(mat)\n",
    "        \n",
    "  I = np.zeros((5, 5))\n",
    "\n",
    "  for ww in range(5):\n",
    "    I[ww, ww] = 1\n",
    "        \n",
    "  A = np.vstack((A, I))\n",
    "  A = np.hstack(\n",
    "            (A, [[-1], [-1], [-1], [-1], [-1], [0], [0], [0], [0], [0]]))\n",
    "    \n",
    "  A = np.vstack(\n",
    "            (A, [1, 1, 1, 1, 1, 0], [-1, -1, -1, -1, -1, 0]))\n",
    "    \n",
    "  b = np.array([0., 0., 0., 0., 0., 0., 0., 0., 0., 0., 1., -1.])\n",
    "    \n",
    "    \n",
    "  c = np.array([0., 0., 0., 0., 0., 1.])\n",
    "        \n",
    "  #print(\"Hit 2\")\n",
    "    \n",
    "  x = cp.Variable(5+1)\n",
    "    \n",
    "  prob = cp.Problem(cp.Minimize(-c.T@ x),[-A @ x <= -b])\n",
    "    \n",
    "  v_value = prob.solve()\n",
    "\n",
    "  #print (v_value)\n",
    "        \n",
    "    \n",
    "  x_value = x.value\n",
    "\n",
    "  return x_value, v_value\n"
   ]
  },
  {
   "cell_type": "code",
   "execution_count": 26,
   "id": "e6f2a46d-1fbc-4c02-9ea9-0a0ae6adcc8d",
   "metadata": {},
   "outputs": [],
   "source": [
    "def max_min(Q):\n",
    "    c = matrix([-1.0, 0.0, 0.0, 0.0, 0.0, 0.0])\n",
    "    G = matrix(np.append(np.append(np.ones((5,1)), -Q.T, axis=1), np.append(np.zeros((5,1)), -np.eye(5), axis=1), axis=0))\n",
    "    h = matrix([0.0, 0.0, 0.0, 0.0, 0.0, 0.0, 0.0, 0.0, 0.0, 0.0])\n",
    "    A = matrix([[0.0],[1.0], [1.0], [1.0], [1.0], [1.0]])\n",
    "    b = matrix(1.0)\n",
    "    sol = solvers.lp(c=c, G=G, h=h, A=A, b=b)\n",
    "    return np.abs(sol['x'][1:]).reshape((5,)) / sum(np.abs(sol['x'][1:])), np.array(sol['x'][0])"
   ]
  },
  {
   "cell_type": "code",
   "execution_count": 27,
   "id": "085ab80a-8ae0-47cf-8d5d-da951c67c31d",
   "metadata": {},
   "outputs": [],
   "source": [
    "def FoeQ_FoeQ(env, playerA, playerB, start_randomize = False, greenwald_off_policy = False, epsilon = 1.0, alpha = 1.0):\n",
    "    \n",
    "    #Greenwalds Off policy definition is different than Sutton's\n",
    "    \n",
    "    itt = 1000000 #from figure 3\n",
    "    t_start = time.time()\n",
    "    \n",
    "    ep = 1.0\n",
    "    ep_min = 0.001\n",
    "    ep_decay = 10**(np.log10(ep_min)/itt)\n",
    "    \n",
    "    alpha = 0.9\n",
    "    alpha_min = 0.001\n",
    "    alpha_decay = 10**(np.log10(ep_min)/itt)\n",
    "    \n",
    "    gamma = 0.9\n",
    "    \n",
    "    Qa = np.ones([8, 8, 2, 5, 5])\n",
    "    Va = np.ones([8,8,2])\n",
    "\n",
    "    pi_a = np.ones([8,8,2,5])/5\n",
    "\n",
    "    Qb = np.ones([8, 8, 2, 5, 5])\n",
    "    Vb = np.ones([8,8,2])\n",
    "\n",
    "    pi_b = np.ones([8,8,2,5])/5\n",
    "\n",
    "    \n",
    "    env.make(start_randomize)\n",
    "    end = 0\n",
    "    \n",
    "    error = []\n",
    "    seq = []\n",
    "    won = 0\n",
    "    lost = 0\n",
    "    wr = 0\n",
    "    result = []\n",
    "    \n",
    "    numActions = 5\n",
    "    \n",
    "    for i in range(itt):\n",
    "        \n",
    "        if end == 1:\n",
    "            env.make(start_randomize)\n",
    "            \n",
    "        pA = playerA.pos\n",
    "        pB = playerB.pos\n",
    "        ball = env.ball\n",
    "        \n",
    "        old_q_val = Qa[2,1,1,2,4]\n",
    " \n",
    "        if ep > np.random.random():\n",
    "            \n",
    "            actA = np.random.choice(5) #5 actions\n",
    "\n",
    "        else:\n",
    "            actA = np.random.choice(np.arange(5),1,p=pi_a[pA,pB,ball]) #randomly choose an action according to policy pi_a\n",
    "\n",
    "        if ep > np.random.random():\n",
    "\n",
    "            actB = np.random.choice(5)\n",
    "            \n",
    "        else:\n",
    "\n",
    "            actB = np.random.choice(np.arange(5),1,p=pi_b[pA,pB,ball])\n",
    "            \n",
    "        next_state, rewardA, rewardB, end = env.step(action1 = actA, action2 = actB)\n",
    "        na, nb, nball = next_state\n",
    "        \n",
    "        #next_Q = Qa[na, nb, nball]\n",
    "        #print(\"Hit 1\")\n",
    "\n",
    "        current_Q_a = Qa[playerA.pos, playerB.pos, env.ball]\n",
    "        current_Q_b = Qb[playerA.pos, playerB.pos, env.ball]\n",
    "        \n",
    "        xa_temp,va_temp = max_min(current_Q_a)\n",
    "        #xa_temp = xa_temp[1:]\n",
    "        #xa_temp[np.where(xa_temp<0)] = 0\n",
    "        #xa_temp = np.abs(xa_temp) / sum(np.abs(xa_temp))\n",
    "\n",
    "        xb_temp,vb_temp = max_min(current_Q_b)\n",
    "        #xb_temp = xb_temp[1:]\n",
    "        #xb_temp[np.where(xb_temp<0)] = 0\n",
    "        #xb_temp = np.abs(xb_temp) / sum(np.abs(xb_temp))\n",
    "        \n",
    "        Va[playerA.pos, playerB.pos, env.ball] = va_temp\n",
    "        Vb[playerA.pos, playerB.pos, env.ball] = vb_temp\n",
    "\n",
    "        pi_a[playerA.pos, playerB.pos, env.ball] = xa_temp\n",
    "        pi_b[playerA.pos, playerB.pos, env.ball] = xb_temp\n",
    "\n",
    "       \n",
    "        if end == 1:\n",
    "            Qa[pA,pB,ball,actA, actB] = (1-alpha) *Qa[pA,pB,ball,actA, actB] + alpha*(1-gamma)*rewardA\n",
    "            Qb[pA,pB,ball,actA, actB] = (1-alpha) *Qb[pA,pB,ball,actA, actB] + alpha*(1-gamma)*rewardB\n",
    "\n",
    "            if rewardA == 100:\n",
    "              won += 1\n",
    "            else:\n",
    "              lost += 1\n",
    "\n",
    "        else:\n",
    "            #print(\"Hit 4\")\n",
    "            Qa[pA,pB,ball,actA, actB] = (1-alpha) *Qa[pA,pB,ball,actA, actB] + alpha*((1-gamma)*rewardA + gamma *Va[na, nb, nball])\n",
    "            Qb[pA,pB,ball,actA, actB] = (1-alpha) *Qb[pA,pB,ball,actA, actB] + alpha*((1-gamma)*rewardB + gamma *Vb[na, nb, nball])\n",
    "            \n",
    "        #print(Qa[2,1,1,2,4])\n",
    "\n",
    "        if [pA,pB,ball,actA] == [2,1,1,2,4] or i%1 == 0:\n",
    "            err = abs(Qa[2,1,1,2,4] - old_q_val)\n",
    "\n",
    "            if lost == 0  and won == 0:\n",
    "              wr = 0\n",
    "\n",
    "            else:\n",
    "              wr = won/(won+lost)*100\n",
    "\n",
    "            result.append([i,err,wr, alpha, ep])\n",
    "            print('\\rstep {}\\t Time: {:.2f} \\t Percentage: {:.2f}% \\t Alpha: {:.3f} \\t Epsilon: {:.3f} \\t Err: {:.3f} \\t Win_Rate: {:.3f}'.format(i, time.time() - t_start, i*100/itt, alpha, ep,err,wr), end=\"\")\n",
    "\n",
    "\n",
    "        if greenwald_off_policy == False:\n",
    "            ep *= ep_decay\n",
    "            ep = max(ep_min, ep)\n",
    "        \n",
    "        alpha *= alpha_decay\n",
    "        alpha = max(alpha_min, alpha)\n",
    "\n",
    "        #alpha = 1 / (i / alpha_min / itt + 1)\n",
    "  \n",
    "\n",
    "    return result, Qa, Qb, pi_a, pi_b"
   ]
  },
  {
   "cell_type": "code",
   "execution_count": 28,
   "id": "36f1a56d-49f9-4789-9221-7b2d1195b7c5",
   "metadata": {},
   "outputs": [
    {
     "name": "stdout",
     "output_type": "stream",
     "text": [
      "Player A Created\n",
      "Player B Created\n"
     ]
    }
   ],
   "source": [
    "playerA = player(name=\"A\", ball = 0)\n",
    "playerB = player(name=\"B\", ball = 1)\n",
    "env = soccer_game(playerA, playerB)"
   ]
  },
  {
   "cell_type": "code",
   "execution_count": 29,
   "id": "b27c4031-2630-4322-99f6-5455296f5a69",
   "metadata": {},
   "outputs": [
    {
     "name": "stdout",
     "output_type": "stream",
     "text": [
      "step 999999\t Time: 2372.32 \t Percentage: 100.00% \t Alpha: 0.001 \t Epsilon: 0.001 \t Err: 0.000 \t Win_Rate: 47.364"
     ]
    }
   ],
   "source": [
    "#a=0.9\n",
    "Result, Qa, Qb, pi_a, pi_b = FoeQ_FoeQ(env, playerA, playerB, start_randomize = False, greenwald_off_policy = False, epsilon = 1.0, alpha = 1.0)"
   ]
  },
  {
   "cell_type": "code",
   "execution_count": 19,
   "id": "d9a88a24-ab06-41b4-99ce-477a0b577a4f",
   "metadata": {},
   "outputs": [],
   "source": [
    "df = pd.DataFrame(Result, columns = [\"Itteration\",\"Error\", \"WinRate\", \"Alpha\", \"Epsilon\"])"
   ]
  },
  {
   "cell_type": "code",
   "execution_count": 30,
   "id": "65a74174-da7f-4697-b0ee-14599a261b17",
   "metadata": {},
   "outputs": [
    {
     "data": {
      "image/png": "[encoded data removed]",
      "text/plain": [
       "<Figure size 576x576 with 1 Axes>"
      ]
     },
     "metadata": {
      "needs_background": "light"
     },
     "output_type": "display_data"
    },
    {
     "data": {
      "text/plain": [
       "<Figure size 432x288 with 0 Axes>"
      ]
     },
     "metadata": {},
     "output_type": "display_data"
    }
   ],
   "source": [
    "graph_error(df[\"Error\"], df[\"Itteration\"], name=\"\", linewidth = 1)"
   ]
  },
  {
   "cell_type": "code",
   "execution_count": null,
   "id": "95354483-00d2-4b35-b857-0664b80aab63",
   "metadata": {},
   "outputs": [],
   "source": []
  },
  {
   "cell_type": "code",
   "execution_count": null,
   "id": "5e515a05-5112-48b3-a533-af8c8dd1698a",
   "metadata": {},
   "outputs": [],
   "source": []
  },
  {
   "cell_type": "code",
   "execution_count": null,
   "id": "8753a42d-446d-4177-bd77-4107e4772b54",
   "metadata": {},
   "outputs": [],
   "source": []
  },
  {
   "cell_type": "code",
   "execution_count": null,
   "id": "1b86aab4-7ad0-41b5-902e-558eb3cb7d9b",
   "metadata": {},
   "outputs": [],
   "source": []
  },
  {
   "cell_type": "code",
   "execution_count": null,
   "id": "7797345a-6010-4420-bc78-9a9aa8085e84",
   "metadata": {},
   "outputs": [],
   "source": []
  },
  {
   "cell_type": "code",
   "execution_count": null,
   "id": "8b945e32-e166-41d4-a659-4df03c519e91",
   "metadata": {},
   "outputs": [],
   "source": []
  },
  {
   "cell_type": "code",
   "execution_count": null,
   "id": "fba7bde5-7dcc-4ff4-b77f-30d6adb2a283",
   "metadata": {},
   "outputs": [],
   "source": []
  },
  {
   "cell_type": "code",
   "execution_count": 20,
   "id": "64420f33-180a-4cde-b4f3-a9efbab88064",
   "metadata": {},
   "outputs": [
    {
     "data": {
      "image/png": "[encoded data removed]",
      "text/plain": [
       "<Figure size 576x576 with 1 Axes>"
      ]
     },
     "metadata": {
      "needs_background": "light"
     },
     "output_type": "display_data"
    },
    {
     "data": {
      "text/plain": [
       "<Figure size 432x288 with 0 Axes>"
      ]
     },
     "metadata": {},
     "output_type": "display_data"
    }
   ],
   "source": [
    "#graph of alpha=1\n",
    "#graph_error(df[\"Error\"], df[\"Itteration\"], name=\"\", linewidth = 1)"
   ]
  },
  {
   "cell_type": "code",
   "execution_count": null,
   "id": "72f71eeb-825f-4b68-a201-e757d57a89bf",
   "metadata": {},
   "outputs": [],
   "source": []
  },
  {
   "cell_type": "code",
   "execution_count": 22,
   "id": "0db9bd94-fb59-499c-9b31-af5784f8df4d",
   "metadata": {},
   "outputs": [
    {
     "name": "stdout",
     "output_type": "stream",
     "text": [
      "\t -0.220460 \t -0.031152 \t -0.817006 \t 6.258859 \t -0.259091 \n",
      "\t -7.580495 \t -10.000000 \t -7.870829 \t -1.658768 \t -6.987844 \n",
      "\t -2.351630 \t -2.709634 \t -2.428078 \t 8.200364 \t -2.666224 \n",
      "\t -0.059818 \t -0.033214 \t 1.722786 \t 6.951581 \t -0.055415 \n",
      "\t -0.034433 \t -0.031260 \t -0.409763 \t 7.324032 \t -0.034609 \n"
     ]
    }
   ],
   "source": [
    "for item in Qa[2,1,1]:\n",
    "    for ele in item:\n",
    " \n",
    "        # print in a single line\n",
    "        print('\\t {:.6f}'.format(ele), end= \" \")\n",
    "    print()"
   ]
  },
  {
   "cell_type": "code",
   "execution_count": 31,
   "id": "fcdf3aea-b855-429e-875f-fb7e5918241e",
   "metadata": {},
   "outputs": [
    {
     "name": "stdout",
     "output_type": "stream",
     "text": [
      "\t -0.253391 \t -0.000027 \t -0.948960 \t 6.574696 \t -0.312173 \n",
      "\t -6.913020 \t -10.000000 \t -8.224727 \t 2.129867 \t -7.104250 \n",
      "\t 3.559446 \t -4.286664 \t -0.298004 \t 6.817520 \t 3.690295 \n",
      "\t -0.000026 \t -0.000023 \t 1.867019 \t 7.243298 \t -0.000026 \n",
      "\t -0.122070 \t -0.000027 \t -0.380358 \t 7.044792 \t -0.181208 \n"
     ]
    }
   ],
   "source": [
    "for item in Qa[2,1,1]:\n",
    "    for ele in item:\n",
    " \n",
    "        # print in a single line\n",
    "        print('\\t {:.6f}'.format(ele), end= \" \")\n",
    "    print()"
   ]
  },
  {
   "cell_type": "code",
   "execution_count": null,
   "id": "06936b2b-d16d-43f1-80dc-385c6fbf74fb",
   "metadata": {},
   "outputs": [],
   "source": []
  },
  {
   "cell_type": "code",
   "execution_count": null,
   "id": "90e7daf3-f450-4b8c-90da-e6c3459aff3e",
   "metadata": {},
   "outputs": [],
   "source": []
  },
  {
   "cell_type": "code",
   "execution_count": null,
   "id": "165dfaf5-2603-42ca-b896-89681f52cd90",
   "metadata": {},
   "outputs": [],
   "source": []
  }
 ],
 "metadata": {
  "kernelspec": {
   "display_name": "Python 3",
   "language": "python",
   "name": "python3"
  },
  "language_info": {
   "codemirror_mode": {
    "name": "ipython",
    "version": 3
   },
   "file_extension": ".py",
   "mimetype": "text/x-python",
   "name": "python",
   "nbconvert_exporter": "python",
   "pygments_lexer": "ipython3",
   "version": "3.8.10"
  }
 },
 "nbformat": 4,
 "nbformat_minor": 5
}
