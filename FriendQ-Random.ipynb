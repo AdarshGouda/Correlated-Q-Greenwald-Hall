{
 "cells": [
  {
   "cell_type": "code",
   "execution_count": 1,
   "metadata": {
    "executionInfo": {
     "elapsed": 434,
     "status": "ok",
     "timestamp": 1626801811716,
     "user": {
      "displayName": "Adarsh Gouda",
      "photoUrl": "https://lh3.googleusercontent.com/a-/AOh14GiLxey_F4S6zXQQzRixQirKM2ByMsjtktDTWY5hdw=s64",
      "userId": "10706865863009541265"
     },
     "user_tz": 360
    },
    "id": "b9hEqSr9OlAX"
   },
   "outputs": [],
   "source": [
    "import numpy as np\n",
    "import matplotlib.pyplot as plt\n",
    "import time\n",
    "import cvxpy as cp\n",
    "import pandas as pd"
   ]
  },
  {
   "cell_type": "code",
   "execution_count": 2,
   "metadata": {
    "executionInfo": {
     "elapsed": 5,
     "status": "ok",
     "timestamp": 1626801812157,
     "user": {
      "displayName": "Adarsh Gouda",
      "photoUrl": "https://lh3.googleusercontent.com/a-/AOh14GiLxey_F4S6zXQQzRixQirKM2ByMsjtktDTWY5hdw=s64",
      "userId": "10706865863009541265"
     },
     "user_tz": 360
    },
    "id": "vffY7gpBOtBA"
   },
   "outputs": [],
   "source": [
    "class soccer_game():\n",
    "    \n",
    "    def __init__(self, playerA, playerB):\n",
    "        self.player1 = playerA\n",
    "        self.player2 = playerB\n",
    "        \n",
    "        self.rows = 2\n",
    "        self.columns = 4\n",
    "        \n",
    "        self.player1_goal = [0,4]\n",
    "        self.player2_goal = [3,7]\n",
    "        \n",
    "        self.ball = np.random.randint(2) #0 or 1 at random\n",
    "        \n",
    "        self.ball_possession = playerA.pos\n",
    "        \n",
    "    def state(self):\n",
    "        return [A.pos, B.pos, game.ball]\n",
    "        \n",
    "    def make(self, randomize = True):\n",
    "        available_cells = [1,2,5,6]\n",
    "        \n",
    "        random_cell = np.random.choice(len(available_cells), 2, replace=False)\n",
    "        \n",
    "        if randomize:\n",
    "            \n",
    "            playerA.pos = available_cells[random_cell[0]]\n",
    "            playerB.pos = available_cells[random_cell[1]]\n",
    "            \n",
    "            if np.random.randint(2)==0:\n",
    "                self.ball = playerA.ball\n",
    "                self.ball_possession = playerA.pos\n",
    "            else:\n",
    "                self.ball = playerB.ball\n",
    "                self.ball_possession = playerB.pos\n",
    "                \n",
    "        else:\n",
    "            \n",
    "            playerA.pos = 2\n",
    "            playerB.pos = 1\n",
    "            self.ball = playerB.ball\n",
    "            self.ball_possession = playerB.pos\n",
    "            \n",
    "    def move(self, player, action):\n",
    "        \n",
    "        if action == 0 and player.pos>3:\n",
    "            new_loc = player.pos - 4\n",
    "            \n",
    "        elif action ==1 and player.pos not in self.player2_goal:\n",
    "            new_loc = player.pos + 1\n",
    "            \n",
    "        elif action == 2 and player.pos<4:\n",
    "            new_loc = player.pos + 4\n",
    "            \n",
    "        elif action == 3 and player.pos not in self.player1_goal:\n",
    "            new_loc = player.pos - 1\n",
    "            \n",
    "        else:\n",
    "            new_loc = player.pos\n",
    "            \n",
    "        return new_loc\n",
    "        \n",
    "    def actions(self, player1, player2, action1, action2):\n",
    "        new_loc1 = self.move(player1, action1)\n",
    "        new_loc2 = self.move(player2, action2)\n",
    "        \n",
    "        if new_loc1 != player2.pos: #Always player1 moves first\n",
    "            player1.pos = new_loc1 #moving to the available cell\n",
    "        else:\n",
    "            self.ball = player2.ball #Ball moves to opponent if the cell is occupied\n",
    "            \n",
    "        if new_loc2 != player1.pos:\n",
    "            player2.pos = new_loc2\n",
    "        else:\n",
    "            self.ball = player1.ball\n",
    "            \n",
    "        if self.ball:                              \n",
    "            self.ball_possession = player1.pos\n",
    "        else:\n",
    "            self.ball_possession = player2.pos\n",
    "            \n",
    "    def step(self, action1, action2):\n",
    "        \n",
    "        p1 = self.player1\n",
    "        p2 = self.player2\n",
    "        \n",
    "        if np.random.randint(2)==0:\n",
    "            self.actions(p1, p2, action1, action2)\n",
    "        else:\n",
    "            self.actions(p2, p1, action2, action1)\n",
    "            \n",
    "        if self.ball_possession in self.player1_goal:\n",
    "            reward_1 = 100\n",
    "            reward_2 = -100\n",
    "            end = 1\n",
    "            #print(\"Goal by PlayerA!\")\n",
    "        \n",
    "        elif self.ball_possession in self.player2_goal:\n",
    "            reward_1 = -100\n",
    "            reward_2 = 100\n",
    "            end = 1\n",
    "            #print(\"Goal by PlayerB!\")\n",
    "            \n",
    "        else:\n",
    "            reward_1 = 0\n",
    "            reward_2 = 0\n",
    "            end = 0\n",
    "            \n",
    "        return self.state(), reward_1, reward_2, end\n",
    "    \n",
    "    def state(self):\n",
    "        return [playerA.pos, playerB.pos, env.ball]"
   ]
  },
  {
   "cell_type": "code",
   "execution_count": 3,
   "metadata": {
    "executionInfo": {
     "elapsed": 5,
     "status": "ok",
     "timestamp": 1626801812158,
     "user": {
      "displayName": "Adarsh Gouda",
      "photoUrl": "https://lh3.googleusercontent.com/a-/AOh14GiLxey_F4S6zXQQzRixQirKM2ByMsjtktDTWY5hdw=s64",
      "userId": "10706865863009541265"
     },
     "user_tz": 360
    },
    "id": "6ZuRsyLWOtDX"
   },
   "outputs": [],
   "source": [
    "class player():\n",
    "\n",
    "    def __init__(self, name=\"\", ball = None):\n",
    "        self.name = name\n",
    "        self.score = 0\n",
    "        self.pos = 0\n",
    "        self.ball = ball"
   ]
  },
  {
   "cell_type": "code",
   "execution_count": 4,
   "metadata": {
    "executionInfo": {
     "elapsed": 5,
     "status": "ok",
     "timestamp": 1626801812158,
     "user": {
      "displayName": "Adarsh Gouda",
      "photoUrl": "https://lh3.googleusercontent.com/a-/AOh14GiLxey_F4S6zXQQzRixQirKM2ByMsjtktDTWY5hdw=s64",
      "userId": "10706865863009541265"
     },
     "user_tz": 360
    },
    "id": "nHRJ6KWuOtF_"
   },
   "outputs": [],
   "source": [
    "def graph_error(error_list, iter_list, name=\"\", linewidth = 1):\n",
    "\n",
    "    plt.plot(iter_list, error_list, linewidth = linewidth)\n",
    "    plt.ticklabel_format(style='sci', axis='x', scilimits=(0, 0))\n",
    "    plt.title(name)\n",
    "    plt.xlabel('Iteration')\n",
    "    plt.ylim(0, 0.5)\n",
    "    plt.ylabel('Q Value Difference')\n",
    "    plt.show()\n",
    "    plt.gcf().clear()"
   ]
  },
  {
   "cell_type": "code",
   "execution_count": 5,
   "metadata": {
    "executionInfo": {
     "elapsed": 365,
     "status": "ok",
     "timestamp": 1626801812519,
     "user": {
      "displayName": "Adarsh Gouda",
      "photoUrl": "https://lh3.googleusercontent.com/a-/AOh14GiLxey_F4S6zXQQzRixQirKM2ByMsjtktDTWY5hdw=s64",
      "userId": "10706865863009541265"
     },
     "user_tz": 360
    },
    "id": "lNsxohmpOtIg"
   },
   "outputs": [],
   "source": [
    "def Friend_Q(env, playerA, playerB, start_randomize = True, greenwald_off_policy = True):\n",
    "    \n",
    "    #Greenwalds Off policy definition is different than Sutton's\n",
    "    \n",
    "    itt = 10**6 #from figure 3\n",
    "    t_start = time.time()\n",
    "    \n",
    "    ep = 1\n",
    "    ep_min = 0.001\n",
    "    ep_decay = np.e ** (-np.log(200.0) / 10 ** 6)\n",
    "    \n",
    "    alpha = 1\n",
    "    alpha_min = 0.001\n",
    "    alpha_decay = np.e ** (-np.log(200.0) / 10 ** 6)\n",
    "    \n",
    "    gamma = 0.9\n",
    "    \n",
    "    Qa = np.random.random((8, 8, 2, 5, 5))\n",
    "    #Qb = np.zeros([8, 8, 2, 5, 5])\n",
    "    \n",
    "    env.make(start_randomize)\n",
    "    end = 0\n",
    "    \n",
    "    error = []\n",
    "    seq = []\n",
    "    won = 0\n",
    "    lost = 0\n",
    "    wr = 0\n",
    "    result = []\n",
    "    \n",
    "    for i in range(itt):\n",
    "        \n",
    "        if end == 1:\n",
    "            env.make(start_randomize)\n",
    "            \n",
    "        pA = playerA.pos\n",
    "        pB = playerB.pos\n",
    "        ball = env.ball\n",
    "        \n",
    "        old_q_val = Qa[2,1,1,2,4]\n",
    "        \n",
    "        if ep > np.random.random():\n",
    "            \n",
    "            actA = np.random.choice(5) #5 actions\n",
    "            actB = np.random.choice(5)\n",
    "            \n",
    "        else:\n",
    "            #idx = np.where(Qa[pA, pB, ball] == np.max(Qa[pA, pB, ball]))\n",
    "            #print(idx)\n",
    "            #actA = idx[1][np.random.choice(range(len(idx[0])), 1)[0]]\n",
    "            #print(actA)\n",
    "            #actB = np.argmax(Qb[pA, pB, ball])  #Assumption\n",
    "            \n",
    "            col = np.amax(Qa[pA, pB, ball].T, axis=0)\n",
    "            actA = np.random.choice(np.flatnonzero(col == col.max()))\n",
    "            actB = np.random.choice(5)\n",
    "            \n",
    "        next_state, rewardA, rewardB, end = env.step(action1 = actA, action2 = actB)\n",
    "        na, nb, nball = next_state\n",
    "        \n",
    "        if end == 1:\n",
    "            Qa[pA,pB,ball,actA, actB] = (1-alpha) *Qa[pA,pB,ball,actA, actB] + alpha*(1-gamma)*rewardA\n",
    "\n",
    "            if rewardA == 100:\n",
    "              won += 1\n",
    "            else:\n",
    "              lost += 1\n",
    "\n",
    "        else:\n",
    "            tg = np.max(Qa[na, nb, nball])\n",
    "            Qa[pA,pB,ball,actA, actB] = (1-alpha) *Qa[pA,pB,ball,actA, actB] + alpha*((1-gamma)*rewardA + gamma * tg)\n",
    "        \n",
    "        if [pA, pB, ball, actA, actB] == [2, 1, 1, 2, 4]:\n",
    "            err = abs(Qa[2,1,1,2,4] - old_q_val)\n",
    "\n",
    "            if lost == 0  and won == 0:\n",
    "              wr = 0\n",
    "\n",
    "            else:\n",
    "              wr = won/(won+lost)*100\n",
    "\n",
    "            result.append([i,err,wr])\n",
    "            print('\\rstep {}\\t Time: {:.2f} \\t Percentage: {:.2f}% \\t Alpha: {:.3f} \\t Epsilon: {:.3f} \\t Err: {:.3f} \\t Win_Rate: {:.3f}'.format(i, time.time() - t_start, i*100/itt, alpha, ep,err,wr), end=\"\")\n",
    " \n",
    "        if greenwald_off_policy == False:\n",
    "            ep *= np.e ** (-np.log(200.0) / 10 ** 6)\n",
    "            ep = max(ep_min, ep)\n",
    "        \n",
    "        alpha *= np.e ** (-np.log(200.0) / 10 ** 6)\n",
    "        alpha = max(alpha_min, alpha)\n",
    "  \n",
    "\n",
    "    return result"
   ]
  },
  {
   "cell_type": "code",
   "execution_count": 6,
   "metadata": {
    "executionInfo": {
     "elapsed": 4,
     "status": "ok",
     "timestamp": 1626801812519,
     "user": {
      "displayName": "Adarsh Gouda",
      "photoUrl": "https://lh3.googleusercontent.com/a-/AOh14GiLxey_F4S6zXQQzRixQirKM2ByMsjtktDTWY5hdw=s64",
      "userId": "10706865863009541265"
     },
     "user_tz": 360
    },
    "id": "ayoD7pAqOtKv"
   },
   "outputs": [],
   "source": [
    "playerA = player(name=\"A\", ball = 0)\n",
    "playerB = player(name=\"B\", ball = 1)"
   ]
  },
  {
   "cell_type": "code",
   "execution_count": 7,
   "metadata": {
    "executionInfo": {
     "elapsed": 4,
     "status": "ok",
     "timestamp": 1626801812520,
     "user": {
      "displayName": "Adarsh Gouda",
      "photoUrl": "https://lh3.googleusercontent.com/a-/AOh14GiLxey_F4S6zXQQzRixQirKM2ByMsjtktDTWY5hdw=s64",
      "userId": "10706865863009541265"
     },
     "user_tz": 360
    },
    "id": "ANHnh-dJOtNI"
   },
   "outputs": [],
   "source": [
    "env = soccer_game(playerA, playerB)"
   ]
  },
  {
   "cell_type": "code",
   "execution_count": 7,
   "metadata": {
    "executionInfo": {
     "elapsed": 4,
     "status": "ok",
     "timestamp": 1626801812520,
     "user": {
      "displayName": "Adarsh Gouda",
      "photoUrl": "https://lh3.googleusercontent.com/a-/AOh14GiLxey_F4S6zXQQzRixQirKM2ByMsjtktDTWY5hdw=s64",
      "userId": "10706865863009541265"
     },
     "user_tz": 360
    },
    "id": "MTkD59c9OtZY"
   },
   "outputs": [],
   "source": []
  },
  {
   "cell_type": "code",
   "execution_count": 8,
   "metadata": {
    "colab": {
     "base_uri": "https://localhost:8080/",
     "height": 329
    },
    "executionInfo": {
     "elapsed": 78494,
     "status": "ok",
     "timestamp": 1626801891011,
     "user": {
      "displayName": "Adarsh Gouda",
      "photoUrl": "https://lh3.googleusercontent.com/a-/AOh14GiLxey_F4S6zXQQzRixQirKM2ByMsjtktDTWY5hdw=s64",
      "userId": "10706865863009541265"
     },
     "user_tz": 360
    },
    "id": "3d1e756b-499e-4aa2-a00d-a4fcd4eb8b9f",
    "outputId": "7d1f68b1-52cf-488f-87e9-ef1a3a337e1d"
   },
   "outputs": [
    {
     "name": "stdout",
     "output_type": "stream",
     "text": [
      "step 999206\t Time: 75.87 \t Percentage: 99.92% \t Alpha: 0.005 \t Epsilon: 1.000 \t Err: 0.000 \t Win_Rate: 49.945"
     ]
    },
    {
     "data": {
      "image/png": "[encoded data removed]",
      "text/plain": [
       "<Figure size 432x288 with 1 Axes>"
      ]
     },
     "metadata": {
      "needs_background": "light",
      "tags": []
     },
     "output_type": "display_data"
    },
    {
     "data": {
      "text/plain": [
       "<Figure size 432x288 with 0 Axes>"
      ]
     },
     "metadata": {
      "tags": []
     },
     "output_type": "display_data"
    }
   ],
   "source": [
    "Result = Friend_Q(env, playerA, playerB, start_randomize = True, greenwald_off_policy = True)\n",
    "\n",
    "file_name = \"/content/drive/MyDrive/Colab Notebooks/CEQ/FriendQ-vs-Random-shuffleStart-offPolicy\"\n",
    "\n",
    "df = pd.DataFrame(Result, columns = [\"Itteration\",\"Error\", \"WinRate\"])\n",
    "df.to_csv(file_name, index=False)\n",
    "\n",
    "graph_error(df[\"Error\"], df[\"Itteration\"], name=\"FriendQ-vs-Random\", linewidth = 1)"
   ]
  },
  {
   "cell_type": "code",
   "execution_count": 9,
   "metadata": {
    "colab": {
     "base_uri": "https://localhost:8080/",
     "height": 300
    },
    "executionInfo": {
     "elapsed": 27,
     "status": "ok",
     "timestamp": 1626801891013,
     "user": {
      "displayName": "Adarsh Gouda",
      "photoUrl": "https://lh3.googleusercontent.com/a-/AOh14GiLxey_F4S6zXQQzRixQirKM2ByMsjtktDTWY5hdw=s64",
      "userId": "10706865863009541265"
     },
     "user_tz": 360
    },
    "id": "n2pLHkG93WI3",
    "outputId": "f8db8cff-1d5d-4b55-cfda-d8523a9ec46d"
   },
   "outputs": [
    {
     "data": {
      "text/plain": [
       "(0.0, 100.0)"
      ]
     },
     "execution_count": 9,
     "metadata": {
      "tags": []
     },
     "output_type": "execute_result"
    },
    {
     "data": {
      "image/png": "[encoded data removed]",
      "text/plain": [
       "<Figure size 432x288 with 2 Axes>"
      ]
     },
     "metadata": {
      "needs_background": "light",
      "tags": []
     },
     "output_type": "display_data"
    }
   ],
   "source": [
    "ax = df.plot(\"Itteration\",\"Error\")\n",
    "plt.ylim(0, 0.5)\n",
    "ax1 = ax.twinx()\n",
    "df.plot(\"Itteration\",\"WinRate\",ax=ax1, color='r')\n",
    "plt.ylim(0, 100)"
   ]
  },
  {
   "cell_type": "code",
   "execution_count": 10,
   "metadata": {
    "colab": {
     "base_uri": "https://localhost:8080/",
     "height": 329
    },
    "executionInfo": {
     "elapsed": 106831,
     "status": "ok",
     "timestamp": 1626801997824,
     "user": {
      "displayName": "Adarsh Gouda",
      "photoUrl": "https://lh3.googleusercontent.com/a-/AOh14GiLxey_F4S6zXQQzRixQirKM2ByMsjtktDTWY5hdw=s64",
      "userId": "10706865863009541265"
     },
     "user_tz": 360
    },
    "id": "2698dc12-d04c-4a36-9f1b-5ac54011eb62",
    "outputId": "3b96e7c2-e538-4635-e7b6-e901cb89c08b"
   },
   "outputs": [
    {
     "name": "stdout",
     "output_type": "stream",
     "text": [
      "step 999750\t Time: 108.49 \t Percentage: 99.97% \t Alpha: 0.005 \t Epsilon: 0.010 \t Err: 0.000 \t Win_Rate: 85.074"
     ]
    },
    {
     "data": {
      "image/png": "[encoded data removed]",
      "text/plain": [
       "<Figure size 432x288 with 1 Axes>"
      ]
     },
     "metadata": {
      "needs_background": "light",
      "tags": []
     },
     "output_type": "display_data"
    },
    {
     "data": {
      "text/plain": [
       "<Figure size 432x288 with 0 Axes>"
      ]
     },
     "metadata": {
      "tags": []
     },
     "output_type": "display_data"
    }
   ],
   "source": [
    "Result = Friend_Q(env, playerA, playerB, start_randomize = True, greenwald_off_policy = False)\n",
    "file_name = \"/content/drive/MyDrive/Colab Notebooks/CEQ/FriendQ-vs-Random-shuffleStart-onPolicy\"\n",
    "\n",
    "df = pd.DataFrame(Result, columns = [\"Itteration\",\"Error\", \"WinRate\"])\n",
    "df.to_csv(file_name, index=False)\n",
    "\n",
    "graph_error(df[\"Error\"], df[\"Itteration\"], name=\"FriendQ-vs-Random\", linewidth = 1)"
   ]
  },
  {
   "cell_type": "code",
   "execution_count": 11,
   "metadata": {
    "colab": {
     "base_uri": "https://localhost:8080/",
     "height": 300
    },
    "executionInfo": {
     "elapsed": 523,
     "status": "ok",
     "timestamp": 1626801998335,
     "user": {
      "displayName": "Adarsh Gouda",
      "photoUrl": "https://lh3.googleusercontent.com/a-/AOh14GiLxey_F4S6zXQQzRixQirKM2ByMsjtktDTWY5hdw=s64",
      "userId": "10706865863009541265"
     },
     "user_tz": 360
    },
    "id": "KgZuiZJ93W5Z",
    "outputId": "a326fb1c-a545-4bb4-8aca-cad79616031b"
   },
   "outputs": [
    {
     "data": {
      "text/plain": [
       "(0.0, 100.0)"
      ]
     },
     "execution_count": 11,
     "metadata": {
      "tags": []
     },
     "output_type": "execute_result"
    },
    {
     "data": {
      "image/png": "[encoded data removed]",
      "text/plain": [
       "<Figure size 432x288 with 2 Axes>"
      ]
     },
     "metadata": {
      "needs_background": "light",
      "tags": []
     },
     "output_type": "display_data"
    }
   ],
   "source": [
    "ax = df.plot(\"Itteration\",\"Error\")\n",
    "plt.ylim(0, 0.5)\n",
    "ax1 = ax.twinx()\n",
    "df.plot(\"Itteration\",\"WinRate\",ax=ax1, color='r')\n",
    "plt.ylim(0, 100)"
   ]
  },
  {
   "cell_type": "code",
   "execution_count": 12,
   "metadata": {
    "colab": {
     "base_uri": "https://localhost:8080/",
     "height": 329
    },
    "executionInfo": {
     "elapsed": 83261,
     "status": "ok",
     "timestamp": 1626802081592,
     "user": {
      "displayName": "Adarsh Gouda",
      "photoUrl": "https://lh3.googleusercontent.com/a-/AOh14GiLxey_F4S6zXQQzRixQirKM2ByMsjtktDTWY5hdw=s64",
      "userId": "10706865863009541265"
     },
     "user_tz": 360
    },
    "id": "a6ada682-5d6b-4867-9c5e-a5e0bb463034",
    "outputId": "9d440764-7d99-490d-948d-66d266937649"
   },
   "outputs": [
    {
     "name": "stdout",
     "output_type": "stream",
     "text": [
      "step 999968\t Time: 81.40 \t Percentage: 100.00% \t Alpha: 0.005 \t Epsilon: 1.000 \t Err: 0.000 \t Win_Rate: 48.941"
     ]
    },
    {
     "data": {
      "image/png": "[encoded data removed]",
      "text/plain": [
       "<Figure size 432x288 with 1 Axes>"
      ]
     },
     "metadata": {
      "needs_background": "light",
      "tags": []
     },
     "output_type": "display_data"
    },
    {
     "data": {
      "text/plain": [
       "<Figure size 432x288 with 0 Axes>"
      ]
     },
     "metadata": {
      "tags": []
     },
     "output_type": "display_data"
    }
   ],
   "source": [
    "Result = Friend_Q(env, playerA, playerB, start_randomize = False, greenwald_off_policy = True)\n",
    "file_name = \"/content/drive/MyDrive/Colab Notebooks/CEQ/FriendQ-vs-Random-strictStart-offPolicy\"\n",
    "\n",
    "df = pd.DataFrame(Result, columns = [\"Itteration\",\"Error\", \"WinRate\"])\n",
    "df.to_csv(file_name, index=False)\n",
    "\n",
    "graph_error(df[\"Error\"], df[\"Itteration\"], name=\"FriendQ-vs-Random\", linewidth = 1)"
   ]
  },
  {
   "cell_type": "code",
   "execution_count": 13,
   "metadata": {
    "colab": {
     "base_uri": "https://localhost:8080/",
     "height": 300
    },
    "executionInfo": {
     "elapsed": 840,
     "status": "ok",
     "timestamp": 1626802082417,
     "user": {
      "displayName": "Adarsh Gouda",
      "photoUrl": "https://lh3.googleusercontent.com/a-/AOh14GiLxey_F4S6zXQQzRixQirKM2ByMsjtktDTWY5hdw=s64",
      "userId": "10706865863009541265"
     },
     "user_tz": 360
    },
    "id": "ynp3_gRa3XrJ",
    "outputId": "de5a305c-03be-4986-8714-af5c4e31666a"
   },
   "outputs": [
    {
     "data": {
      "text/plain": [
       "(0.0, 100.0)"
      ]
     },
     "execution_count": 13,
     "metadata": {
      "tags": []
     },
     "output_type": "execute_result"
    },
    {
     "data": {
      "image/png": "[encoded data removed]",
      "text/plain": [
       "<Figure size 432x288 with 2 Axes>"
      ]
     },
     "metadata": {
      "needs_background": "light",
      "tags": []
     },
     "output_type": "display_data"
    }
   ],
   "source": [
    "ax = df.plot(\"Itteration\",\"Error\")\n",
    "plt.ylim(0, 0.5)\n",
    "ax1 = ax.twinx()\n",
    "df.plot(\"Itteration\",\"WinRate\",ax=ax1, color='r')\n",
    "plt.ylim(0, 100)"
   ]
  },
  {
   "cell_type": "code",
   "execution_count": 14,
   "metadata": {
    "colab": {
     "base_uri": "https://localhost:8080/",
     "height": 329
    },
    "executionInfo": {
     "elapsed": 111230,
     "status": "ok",
     "timestamp": 1626802193640,
     "user": {
      "displayName": "Adarsh Gouda",
      "photoUrl": "https://lh3.googleusercontent.com/a-/AOh14GiLxey_F4S6zXQQzRixQirKM2ByMsjtktDTWY5hdw=s64",
      "userId": "10706865863009541265"
     },
     "user_tz": 360
    },
    "id": "b42001e4-451a-4f0c-aacd-72aa9028d24c",
    "outputId": "9f7c3ce9-d91e-404c-9f8e-583f97ad0222"
   },
   "outputs": [
    {
     "name": "stdout",
     "output_type": "stream",
     "text": [
      "step 995810\t Time: 112.44 \t Percentage: 99.58% \t Alpha: 0.005 \t Epsilon: 0.010 \t Err: 0.000 \t Win_Rate: 87.894"
     ]
    },
    {
     "data": {
      "image/png": "[encoded data removed]",
      "text/plain": [
       "<Figure size 432x288 with 1 Axes>"
      ]
     },
     "metadata": {
      "needs_background": "light",
      "tags": []
     },
     "output_type": "display_data"
    },
    {
     "data": {
      "text/plain": [
       "<Figure size 432x288 with 0 Axes>"
      ]
     },
     "metadata": {
      "tags": []
     },
     "output_type": "display_data"
    }
   ],
   "source": [
    "Result = Friend_Q(env, playerA, playerB, start_randomize = False, greenwald_off_policy = False)\n",
    "file_name = \"/content/drive/MyDrive/Colab Notebooks/CEQ/FriendQ-vs-Random-strictStart-onPolicy\"\n",
    "\n",
    "df = pd.DataFrame(Result, columns = [\"Itteration\",\"Error\", \"WinRate\"])\n",
    "df.to_csv(file_name, index=False)\n",
    "\n",
    "graph_error(df[\"Error\"], df[\"Itteration\"], name=\"FriendQ-vs-Random\", linewidth = 1)"
   ]
  },
  {
   "cell_type": "code",
   "execution_count": 15,
   "metadata": {
    "colab": {
     "base_uri": "https://localhost:8080/",
     "height": 300
    },
    "executionInfo": {
     "elapsed": 8,
     "status": "ok",
     "timestamp": 1626802193641,
     "user": {
      "displayName": "Adarsh Gouda",
      "photoUrl": "https://lh3.googleusercontent.com/a-/AOh14GiLxey_F4S6zXQQzRixQirKM2ByMsjtktDTWY5hdw=s64",
      "userId": "10706865863009541265"
     },
     "user_tz": 360
    },
    "id": "1ace2f7f-d357-43ce-9cc2-7d4c8a04ae0b",
    "outputId": "f32c97f7-804f-4b1f-da2f-a6b3c122c3b7"
   },
   "outputs": [
    {
     "data": {
      "text/plain": [
       "(0.0, 100.0)"
      ]
     },
     "execution_count": 15,
     "metadata": {
      "tags": []
     },
     "output_type": "execute_result"
    },
    {
     "data": {
      "image/png": "[encoded data removed]",
      "text/plain": [
       "<Figure size 432x288 with 2 Axes>"
      ]
     },
     "metadata": {
      "needs_background": "light",
      "tags": []
     },
     "output_type": "display_data"
    }
   ],
   "source": [
    "ax = df.plot(\"Itteration\",\"Error\")\n",
    "plt.ylim(0, 0.5)\n",
    "ax1 = ax.twinx()\n",
    "df.plot(\"Itteration\",\"WinRate\",ax=ax1, color='r')\n",
    "plt.ylim(0, 100)"
   ]
  },
  {
   "cell_type": "code",
   "execution_count": 15,
   "metadata": {
    "executionInfo": {
     "elapsed": 7,
     "status": "ok",
     "timestamp": 1626802193642,
     "user": {
      "displayName": "Adarsh Gouda",
      "photoUrl": "https://lh3.googleusercontent.com/a-/AOh14GiLxey_F4S6zXQQzRixQirKM2ByMsjtktDTWY5hdw=s64",
      "userId": "10706865863009541265"
     },
     "user_tz": 360
    },
    "id": "XkSdknffOtb3"
   },
   "outputs": [],
   "source": []
  },
  {
   "cell_type": "code",
   "execution_count": 15,
   "metadata": {
    "executionInfo": {
     "elapsed": 502,
     "status": "ok",
     "timestamp": 1626802194138,
     "user": {
      "displayName": "Adarsh Gouda",
      "photoUrl": "https://lh3.googleusercontent.com/a-/AOh14GiLxey_F4S6zXQQzRixQirKM2ByMsjtktDTWY5hdw=s64",
      "userId": "10706865863009541265"
     },
     "user_tz": 360
    },
    "id": "dqiC3m-bOteX"
   },
   "outputs": [],
   "source": []
  },
  {
   "cell_type": "code",
   "execution_count": 15,
   "metadata": {
    "executionInfo": {
     "elapsed": 12,
     "status": "ok",
     "timestamp": 1626802194138,
     "user": {
      "displayName": "Adarsh Gouda",
      "photoUrl": "https://lh3.googleusercontent.com/a-/AOh14GiLxey_F4S6zXQQzRixQirKM2ByMsjtktDTWY5hdw=s64",
      "userId": "10706865863009541265"
     },
     "user_tz": 360
    },
    "id": "nWpIOfU7OthA"
   },
   "outputs": [],
   "source": []
  },
  {
   "cell_type": "code",
   "execution_count": 15,
   "metadata": {
    "executionInfo": {
     "elapsed": 13,
     "status": "ok",
     "timestamp": 1626802194139,
     "user": {
      "displayName": "Adarsh Gouda",
      "photoUrl": "https://lh3.googleusercontent.com/a-/AOh14GiLxey_F4S6zXQQzRixQirKM2ByMsjtktDTWY5hdw=s64",
      "userId": "10706865863009541265"
     },
     "user_tz": 360
    },
    "id": "u0CIGr8UOtje"
   },
   "outputs": [],
   "source": []
  },
  {
   "cell_type": "code",
   "execution_count": 15,
   "metadata": {
    "executionInfo": {
     "elapsed": 12,
     "status": "ok",
     "timestamp": 1626802194139,
     "user": {
      "displayName": "Adarsh Gouda",
      "photoUrl": "https://lh3.googleusercontent.com/a-/AOh14GiLxey_F4S6zXQQzRixQirKM2ByMsjtktDTWY5hdw=s64",
      "userId": "10706865863009541265"
     },
     "user_tz": 360
    },
    "id": "LNrSx5JvOtl_"
   },
   "outputs": [],
   "source": []
  },
  {
   "cell_type": "code",
   "execution_count": 15,
   "metadata": {
    "executionInfo": {
     "elapsed": 13,
     "status": "ok",
     "timestamp": 1626802194139,
     "user": {
      "displayName": "Adarsh Gouda",
      "photoUrl": "https://lh3.googleusercontent.com/a-/AOh14GiLxey_F4S6zXQQzRixQirKM2ByMsjtktDTWY5hdw=s64",
      "userId": "10706865863009541265"
     },
     "user_tz": 360
    },
    "id": "NokPOB5gOton"
   },
   "outputs": [],
   "source": []
  },
  {
   "cell_type": "code",
   "execution_count": 15,
   "metadata": {
    "executionInfo": {
     "elapsed": 12,
     "status": "ok",
     "timestamp": 1626802194140,
     "user": {
      "displayName": "Adarsh Gouda",
      "photoUrl": "https://lh3.googleusercontent.com/a-/AOh14GiLxey_F4S6zXQQzRixQirKM2ByMsjtktDTWY5hdw=s64",
      "userId": "10706865863009541265"
     },
     "user_tz": 360
    },
    "id": "xqdfF_1XOtrZ"
   },
   "outputs": [],
   "source": []
  },
  {
   "cell_type": "code",
   "execution_count": 15,
   "metadata": {
    "executionInfo": {
     "elapsed": 12,
     "status": "ok",
     "timestamp": 1626802194140,
     "user": {
      "displayName": "Adarsh Gouda",
      "photoUrl": "https://lh3.googleusercontent.com/a-/AOh14GiLxey_F4S6zXQQzRixQirKM2ByMsjtktDTWY5hdw=s64",
      "userId": "10706865863009541265"
     },
     "user_tz": 360
    },
    "id": "-tJNyzCfOtuA"
   },
   "outputs": [],
   "source": []
  },
  {
   "cell_type": "code",
   "execution_count": 15,
   "metadata": {
    "executionInfo": {
     "elapsed": 12,
     "status": "ok",
     "timestamp": 1626802194141,
     "user": {
      "displayName": "Adarsh Gouda",
      "photoUrl": "https://lh3.googleusercontent.com/a-/AOh14GiLxey_F4S6zXQQzRixQirKM2ByMsjtktDTWY5hdw=s64",
      "userId": "10706865863009541265"
     },
     "user_tz": 360
    },
    "id": "Ck9sMBGtOtwe"
   },
   "outputs": [],
   "source": []
  },
  {
   "cell_type": "code",
   "execution_count": 15,
   "metadata": {
    "executionInfo": {
     "elapsed": 12,
     "status": "ok",
     "timestamp": 1626802194141,
     "user": {
      "displayName": "Adarsh Gouda",
      "photoUrl": "https://lh3.googleusercontent.com/a-/AOh14GiLxey_F4S6zXQQzRixQirKM2ByMsjtktDTWY5hdw=s64",
      "userId": "10706865863009541265"
     },
     "user_tz": 360
    },
    "id": "tlbcTvoPOtzF"
   },
   "outputs": [],
   "source": []
  },
  {
   "cell_type": "code",
   "execution_count": 15,
   "metadata": {
    "executionInfo": {
     "elapsed": 12,
     "status": "ok",
     "timestamp": 1626802194142,
     "user": {
      "displayName": "Adarsh Gouda",
      "photoUrl": "https://lh3.googleusercontent.com/a-/AOh14GiLxey_F4S6zXQQzRixQirKM2ByMsjtktDTWY5hdw=s64",
      "userId": "10706865863009541265"
     },
     "user_tz": 360
    },
    "id": "spQjEfVAOt1k"
   },
   "outputs": [],
   "source": []
  },
  {
   "cell_type": "code",
   "execution_count": 15,
   "metadata": {
    "executionInfo": {
     "elapsed": 12,
     "status": "ok",
     "timestamp": 1626802194142,
     "user": {
      "displayName": "Adarsh Gouda",
      "photoUrl": "https://lh3.googleusercontent.com/a-/AOh14GiLxey_F4S6zXQQzRixQirKM2ByMsjtktDTWY5hdw=s64",
      "userId": "10706865863009541265"
     },
     "user_tz": 360
    },
    "id": "CbqX34Q7Ot4Q"
   },
   "outputs": [],
   "source": []
  },
  {
   "cell_type": "code",
   "execution_count": 15,
   "metadata": {
    "executionInfo": {
     "elapsed": 11,
     "status": "ok",
     "timestamp": 1626802194142,
     "user": {
      "displayName": "Adarsh Gouda",
      "photoUrl": "https://lh3.googleusercontent.com/a-/AOh14GiLxey_F4S6zXQQzRixQirKM2ByMsjtktDTWY5hdw=s64",
      "userId": "10706865863009541265"
     },
     "user_tz": 360
    },
    "id": "fEaAHVOHOt7A"
   },
   "outputs": [],
   "source": []
  },
  {
   "cell_type": "code",
   "execution_count": 15,
   "metadata": {
    "executionInfo": {
     "elapsed": 12,
     "status": "ok",
     "timestamp": 1626802194143,
     "user": {
      "displayName": "Adarsh Gouda",
      "photoUrl": "https://lh3.googleusercontent.com/a-/AOh14GiLxey_F4S6zXQQzRixQirKM2ByMsjtktDTWY5hdw=s64",
      "userId": "10706865863009541265"
     },
     "user_tz": 360
    },
    "id": "KhUQlqFqOt9o"
   },
   "outputs": [],
   "source": []
  },
  {
   "cell_type": "code",
   "execution_count": 15,
   "metadata": {
    "executionInfo": {
     "elapsed": 11,
     "status": "ok",
     "timestamp": 1626802194143,
     "user": {
      "displayName": "Adarsh Gouda",
      "photoUrl": "https://lh3.googleusercontent.com/a-/AOh14GiLxey_F4S6zXQQzRixQirKM2ByMsjtktDTWY5hdw=s64",
      "userId": "10706865863009541265"
     },
     "user_tz": 360
    },
    "id": "JoociroaOuAn"
   },
   "outputs": [],
   "source": []
  }
 ],
 "metadata": {
  "colab": {
   "authorship_tag": "ABX9TyOmzijCa8WbyXL5T8Tk88gS",
   "collapsed_sections": [],
   "mount_file_id": "1dwwQG2qI3uar8dCNlo1ofWWhLrzr7A8M",
   "name": "FriendQ-Random.ipynb",
   "provenance": []
  },
  "kernelspec": {
   "display_name": "Python 3",
   "language": "python",
   "name": "python3"
  },
  "language_info": {
   "codemirror_mode": {
    "name": "ipython",
    "version": 3
   },
   "file_extension": ".py",
   "mimetype": "text/x-python",
   "name": "python",
   "nbconvert_exporter": "python",
   "pygments_lexer": "ipython3",
   "version": "3.8.10"
  }
 },
 "nbformat": 4,
 "nbformat_minor": 1
}
