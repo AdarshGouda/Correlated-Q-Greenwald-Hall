{
 "cells": [
  {
   "cell_type": "code",
   "execution_count": null,
   "metadata": {},
   "outputs": [],
   "source": [
    "#Colab"
   ]
  },
  {
   "cell_type": "code",
   "execution_count": 2,
   "metadata": {
    "executionInfo": {
     "elapsed": 299,
     "status": "ok",
     "timestamp": 1627183277066,
     "user": {
      "displayName": "Adarsh Gouda",
      "photoUrl": "https://lh3.googleusercontent.com/a-/AOh14GiLxey_F4S6zXQQzRixQirKM2ByMsjtktDTWY5hdw=s64",
      "userId": "10706865863009541265"
     },
     "user_tz": 360
    },
    "id": "64bbe9b6-30d2-4d88-9f78-4a81f0b21798"
   },
   "outputs": [],
   "source": [
    "import numpy as np\n",
    "import matplotlib.pyplot as plt\n",
    "import time\n",
    "import cvxpy as cp\n",
    "from numpy import array, eye, hstack, ones, vstack, zeros\n",
    "import copy\n",
    "from scipy.linalg import block_diag\n",
    "import pandas as pd\n",
    "from cvxopt import matrix, solvers\n",
    "solvers.options['show_progress'] = False"
   ]
  },
  {
   "cell_type": "code",
   "execution_count": 3,
   "metadata": {
    "executionInfo": {
     "elapsed": 2,
     "status": "ok",
     "timestamp": 1627183277346,
     "user": {
      "displayName": "Adarsh Gouda",
      "photoUrl": "https://lh3.googleusercontent.com/a-/AOh14GiLxey_F4S6zXQQzRixQirKM2ByMsjtktDTWY5hdw=s64",
      "userId": "10706865863009541265"
     },
     "user_tz": 360
    },
    "id": "piZVMILiXZTq"
   },
   "outputs": [],
   "source": [
    "#np.random.seed(138578)"
   ]
  },
  {
   "cell_type": "code",
   "execution_count": 4,
   "metadata": {
    "executionInfo": {
     "elapsed": 3,
     "status": "ok",
     "timestamp": 1627183277650,
     "user": {
      "displayName": "Adarsh Gouda",
      "photoUrl": "https://lh3.googleusercontent.com/a-/AOh14GiLxey_F4S6zXQQzRixQirKM2ByMsjtktDTWY5hdw=s64",
      "userId": "10706865863009541265"
     },
     "user_tz": 360
    },
    "id": "6wdDXJ79Yy7b"
   },
   "outputs": [],
   "source": [
    "class soccer_game():\n",
    "    \n",
    "    def __init__(self, playerA, playerB):\n",
    "        self.player1 = playerA\n",
    "        self.player2 = playerB\n",
    "        \n",
    "        self.rows = 2\n",
    "        self.columns = 4\n",
    "        \n",
    "        self.player1_goal = [0,4]\n",
    "        self.player2_goal = [3,7]\n",
    "        \n",
    "        self.ball = np.random.randint(2) #0 or 1 at random\n",
    "        \n",
    "        self.ball_possession = playerA.pos\n",
    "        \n",
    "       \n",
    "    def make(self, randomize = False):\n",
    "        available_cells = [1,2,5,6]\n",
    "        \n",
    "        random_cell = np.random.choice(len(available_cells), 2, replace=False)\n",
    "        \n",
    "        if randomize:\n",
    "            \n",
    "            playerA.pos = available_cells[random_cell[0]]\n",
    "            playerB.pos = available_cells[random_cell[1]]\n",
    "            \n",
    "            if np.random.randint(2)==0:\n",
    "                self.ball = playerA.ball\n",
    "                self.ball_possession = playerA.pos\n",
    "            else:\n",
    "                self.ball = playerB.ball\n",
    "                self.ball_possession = playerB.pos\n",
    "                \n",
    "        else:\n",
    "            \n",
    "            playerA.pos = 2\n",
    "            playerB.pos = 1\n",
    "            self.ball = playerB.ball\n",
    "            self.ball_possession = playerB.pos\n",
    "            \n",
    "    def move(self, player, action):\n",
    "        \n",
    "        if action == 0 and player.pos>3:\n",
    "            new_loc = player.pos - 4\n",
    "            \n",
    "        elif action ==1 and player.pos not in self.player2_goal:\n",
    "            new_loc = player.pos + 1\n",
    "            \n",
    "        elif action == 2 and player.pos<4:\n",
    "            new_loc = player.pos + 4\n",
    "            \n",
    "        elif action == 3 and player.pos not in self.player1_goal:\n",
    "            new_loc = player.pos - 1\n",
    "            \n",
    "        else:\n",
    "            new_loc = player.pos\n",
    "            \n",
    "        return new_loc\n",
    "        \n",
    "    def actions(self, player1, player2, action1, action2):\n",
    "        new_loc1 = self.move(player1, action1)\n",
    "        new_loc2 = self.move(player2, action2)\n",
    "        \n",
    "        if new_loc1 != player2.pos: #Always player1 moves first\n",
    "            player1.pos = new_loc1 #moving to the available cell\n",
    "        else:\n",
    "            self.ball = player2.ball #Ball moves to opponent if the cell is occupied\n",
    "            \n",
    "        if new_loc2 != player1.pos:\n",
    "            player2.pos = new_loc2\n",
    "        else:\n",
    "            self.ball = player1.ball\n",
    "            \n",
    "        if self.ball:                              \n",
    "            self.ball_possession = player1.pos\n",
    "        else:\n",
    "            self.ball_possession = player2.pos\n",
    "            \n",
    "    def step(self, action1, action2):\n",
    "        \n",
    "        p1 = self.player1\n",
    "        p2 = self.player2\n",
    "        \n",
    "        if np.random.randint(2)==0:\n",
    "            self.actions(p1, p2, action1, action2)\n",
    "        else:\n",
    "            self.actions(p2, p1, action2, action1)\n",
    "            \n",
    "        if self.ball_possession in self.player1_goal:\n",
    "            reward_1 = 100\n",
    "            reward_2 = -100\n",
    "            end = 1\n",
    "            #print(\"Goal PlayerA!\")\n",
    "        \n",
    "        elif self.ball_possession in self.player2_goal:\n",
    "            reward_1 = -100\n",
    "            reward_2 = 100\n",
    "            end = 1\n",
    "            #print(\"Goal PlayerB!\")\n",
    "            \n",
    "        else:\n",
    "            reward_1 = 0\n",
    "            reward_2 = 0\n",
    "            end = 0\n",
    "            \n",
    "        return self.state(), reward_1, reward_2, end\n",
    "    \n",
    "    def state(self):\n",
    "        return [playerA.pos, playerB.pos, env.ball]\n",
    "\n",
    "\n",
    "class player():\n",
    "\n",
    "    def __init__(self, name=\"\", ball = None):\n",
    "        self.name = name\n",
    "        self.score = 0\n",
    "        self.pos = 0\n",
    "        self.ball = ball\n",
    "        print(\"Player {} Created\".format(name))\n",
    "\n",
    "\n",
    "\n"
   ]
  },
  {
   "cell_type": "code",
   "execution_count": 5,
   "metadata": {
    "executionInfo": {
     "elapsed": 3,
     "status": "ok",
     "timestamp": 1627183277859,
     "user": {
      "displayName": "Adarsh Gouda",
      "photoUrl": "https://lh3.googleusercontent.com/a-/AOh14GiLxey_F4S6zXQQzRixQirKM2ByMsjtktDTWY5hdw=s64",
      "userId": "10706865863009541265"
     },
     "user_tz": 360
    },
    "id": "chKRAi78T6mV"
   },
   "outputs": [],
   "source": [
    "import matplotlib\n",
    "def graph_error(error_list, iter_list, name=\"Q Learning\", linewidth = 1):\n",
    "    plt.figure(figsize=[8,8])\n",
    "    matplotlib.rc('xtick', labelsize=15) \n",
    "    matplotlib.rc('ytick', labelsize=15)\n",
    "    plt.plot(iter_list, error_list, linewidth = linewidth)\n",
    "    plt.ticklabel_format(style='sci', axis='x', scilimits=(0, 0))\n",
    "    plt.title(name)\n",
    "    plt.xlabel('Iteration')\n",
    "    plt.ylim(0, 0.5)\n",
    "    plt.ylabel('Q Value Difference')\n",
    "    plt.show()\n",
    "    plt.gcf().clear()"
   ]
  },
  {
   "cell_type": "code",
   "execution_count": 5,
   "metadata": {
    "executionInfo": {
     "elapsed": 3,
     "status": "ok",
     "timestamp": 1627183278115,
     "user": {
      "displayName": "Adarsh Gouda",
      "photoUrl": "https://lh3.googleusercontent.com/a-/AOh14GiLxey_F4S6zXQQzRixQirKM2ByMsjtktDTWY5hdw=s64",
      "userId": "10706865863009541265"
     },
     "user_tz": 360
    },
    "id": "4OUis0J0jGCA"
   },
   "outputs": [],
   "source": [
    "def solve_ceLP(Qa, pA, pB, ball, Qb):\n",
    "\n",
    "  A =[]\n",
    "  b= []\n",
    "\n",
    "  n = 5\n",
    "  nc = 5**2\n",
    "\n",
    "  for i in range(n):\n",
    "    for j in range(n):\n",
    "      if i==j:\n",
    "        continue\n",
    "      constraint = [0]*(nc)\n",
    "      for k in range(n):\n",
    "        index = n*i + k\n",
    "        equation[index] = Qa[pA, pB, ball, i, k] - Qa[pA, pB, ball, j, k]\n",
    "        A.append(constraint)\n",
    "        b.append(0)\n",
    "\n",
    "  for i in range(n):\n",
    "    for j in range(n):\n",
    "      if i==j:\n",
    "        continue\n",
    "      constraint = [0]*(nc)\n",
    "      for k in range(n):\n",
    "        index = n*i + k\n",
    "        equation[index] = Qb[pA, pB, ball, k, i] - Qb[pA, pB, ball, k, j]\n",
    "        A.append(constraint)\n",
    "        b.append(0)\n",
    "\n",
    "  A = np.array(A, dtype=float)\n",
    "  b = np.array(b, dtype=float)\n",
    "\n",
    "  I = np.eye(nc,nc)\n",
    "\n",
    "  A = np.vstack((A,I,[1]*nc,[-1]*nc))\n",
    "\n",
    "  b = np.concatenate((b,[0]*nC,[1,-1]))\n",
    "\n",
    "  c = []\n",
    "\n",
    "  for i in range(n):\n",
    "    for j in range(n):\n",
    "      c.append(Qa[pA, pB, ball, i, j]+Qb[pA, pB, ball, i, j])\n",
    "\n",
    "  A = np.matrix(A)\n",
    "  b = np.array(b)\n",
    "  c = np.array(c)\n",
    "\n",
    "  x = cp.Variable(5+1)\n",
    "    \n",
    "  prob = cp.Problem(cp.Minimize(c.T@ x),[A @ x <= b])\n",
    "    \n",
    "  v_value = prob.solve()\n",
    "\n",
    "  #print (v_value)\n",
    "        \n",
    "    \n",
    "  x_value = x.value\n",
    "\n",
    "  return x_value, -v_value\n"
   ]
  },
  {
   "cell_type": "code",
   "execution_count": 6,
   "metadata": {
    "executionInfo": {
     "elapsed": 3,
     "status": "ok",
     "timestamp": 1627183278385,
     "user": {
      "displayName": "Adarsh Gouda",
      "photoUrl": "https://lh3.googleusercontent.com/a-/AOh14GiLxey_F4S6zXQQzRixQirKM2ByMsjtktDTWY5hdw=s64",
      "userId": "10706865863009541265"
     },
     "user_tz": 360
    },
    "id": "cPz3SqcgoYuy"
   },
   "outputs": [],
   "source": [
    "def solve_CE(Current_Qa, Current_Qb):\n",
    "    Qs = Current_Qa\n",
    "    s = block_diag(Qs - Qs[0, :], Qs - Qs[1, :], Qs - Qs[2, :], Qs - Qs[3, :], Qs - Qs[4, :])\n",
    "    row_index = [1, 2, 3, 4, 5, 7, 8, 9, 10, 11, 13, 14, 15, 16, 17, 19, 20, 21, 22, 23]\n",
    "    p1 = s[row_index, :]\n",
    "\n",
    "    Qs = Current_Qb\n",
    "    s = block_diag(Qs - Qs[0, :], Qs - Qs[1, :], Qs - Qs[2, :], Qs - Qs[3, :], Qs - Qs[4, :])\n",
    "    col_index = [0, 5, 10, 15, 20, 1, 6, 11, 16, 21, 2, 7, 12, 17, 22, 3, 8, 13, 18, 23, 4, 9, 14, 19, 24]\n",
    "    p2 = s[row_index, :][:, col_index]\n",
    "\n",
    "    c = matrix((Current_Qa + Current_Qb.T).reshape(25))\n",
    "    G = matrix(np.append(np.append(p1, p2, axis=0), -np.eye(25), axis=0))\n",
    "    h = matrix(np.zeros(65) * 0.0)\n",
    "    A = matrix(np.ones((1, 25)))\n",
    "    b = matrix(1.0)\n",
    "\n",
    "    try:\n",
    "        sol = solvers.lp(c=c, G=G, h=h, A=A, b=b)\n",
    "\n",
    "        if sol['x'] is not None:\n",
    "            prob = np.abs(np.array(sol['x']).reshape((5, 5))) / sum(np.abs(sol['x']))\n",
    "            val_a = np.sum(prob * Current_Qa)\n",
    "            val_b = np.sum(prob * Current_Qb.T)\n",
    "    \n",
    "        else:\n",
    "            #print(\"I'm HERE!\")\n",
    "            prob = None\n",
    "            val_a = None\n",
    "            val_b = None\n",
    "\n",
    "    except:\n",
    "        #print(\"ERROR - ERROR - ERROR\")\n",
    "        prob = None\n",
    "        val_a = None\n",
    "        val_b = None\n",
    "    \n",
    "\n",
    "    return prob, val_a, val_b"
   ]
  },
  {
   "cell_type": "code",
   "execution_count": 7,
   "metadata": {
    "executionInfo": {
     "elapsed": 3,
     "status": "ok",
     "timestamp": 1627183278695,
     "user": {
      "displayName": "Adarsh Gouda",
      "photoUrl": "https://lh3.googleusercontent.com/a-/AOh14GiLxey_F4S6zXQQzRixQirKM2ByMsjtktDTWY5hdw=s64",
      "userId": "10706865863009541265"
     },
     "user_tz": 360
    },
    "id": "NGJ9xK21Yy96"
   },
   "outputs": [],
   "source": [
    "def CEQ_CEQ(env, playerA, playerB, start_randomize = False, greenwald_off_policy = False):\n",
    "    \n",
    "    #Greenwalds Off policy definition is different than Sutton's\n",
    "    \n",
    "    itt = 1000000 #from figure 3\n",
    "    t_start = time.time()\n",
    "    \n",
    "    ep = 1.0\n",
    "    ep_min = 0.001\n",
    "    ep_decay = 10 ** (np.log10(ep_min)/itt)\n",
    "    \n",
    "    alpha = 1.0\n",
    "    alpha_min = 0.001\n",
    "    alpha_decay = 10 ** (np.log10(ep_min)/itt)\n",
    "    \n",
    "    gamma = 0.9\n",
    "    \n",
    "    Qa = np.ones([8, 8, 2, 5, 5])\n",
    "    Va = np.ones([8,8,2])\n",
    "\n",
    "    pi = np.ones([8,8,2,5,5])/5**2\n",
    "\n",
    "    Qb = np.ones([8, 8, 2, 5, 5])\n",
    "    Vb = np.ones([8,8,2])\n",
    "\n",
    "    \n",
    "    env.make(start_randomize)\n",
    "    end = 0\n",
    "    \n",
    "    error = []\n",
    "    seq = []\n",
    "    won = 0\n",
    "    lost = 0\n",
    "    wr = 0\n",
    "    result = []\n",
    "    \n",
    "    numActions = 5\n",
    "    \n",
    "    for i in range(itt):\n",
    "        \n",
    "        if end == 1:\n",
    "            env.make(start_randomize)\n",
    "            \n",
    "        pA = playerA.pos\n",
    "        pB = playerB.pos\n",
    "        ball = env.ball\n",
    "        \n",
    "        old_q_val = Qa[2,1,1,2,4]\n",
    "\n",
    "        ind = np.random.choice(np.arange(25),1,p=pi[pA,pB,ball].reshape(25))\n",
    "        act = np.array([ind // 5, ind % 5]).reshape(2)\n",
    " \n",
    "        if ep > np.random.random():\n",
    "            \n",
    "            actA = np.random.choice(5) #5 actions\n",
    "            \n",
    "        else:\n",
    "           \n",
    "            actA = act[0]\n",
    "            \n",
    "\n",
    "        if ep > np.random.random():\n",
    "            \n",
    "            actB = np.random.choice(5)\n",
    "            \n",
    "        else:\n",
    "\n",
    "\n",
    "            actB = act[1]\n",
    "            \n",
    "        next_state, rewardA, rewardB, end = env.step(action1 = actA, action2 = actB)\n",
    "        na, nb, nball = next_state\n",
    "        \n",
    "        #next_Q = Qa[na, nb, nball]\n",
    "        #print(\"Hit 1\")\n",
    "\n",
    "        current_Q_a = Qa[playerA.pos, playerB.pos, env.ball]\n",
    "        current_Q_b = Qb[playerA.pos, playerB.pos, env.ball]\n",
    "\n",
    "        prob, val_a, val_b = solve_CE(current_Q_a, current_Q_b)\n",
    "        \n",
    "        if prob is not None:\n",
    "          Va[playerA.pos, playerB.pos, env.ball] = val_a\n",
    "          Vb[playerA.pos, playerB.pos, env.ball] = val_b\n",
    "        \n",
    "          pi[playerA.pos, playerB.pos, env.ball] = prob\n",
    "\n",
    "\n",
    "        \n",
    "        if end == 1:\n",
    "            Qa[pA,pB,ball,actA, actB] = (1-alpha) *Qa[pA,pB,ball,actA, actB] + alpha*(1-gamma)*rewardA\n",
    "            Qb[pA,pB,ball,actA, actB] = (1-alpha) *Qb[pA,pB,ball,actA, actB] + alpha*(1-gamma)*rewardB\n",
    "            if rewardA == 100:\n",
    "              won += 1\n",
    "            else:\n",
    "              lost += 1\n",
    "        else:\n",
    "            #print(\"Hit 4\")\n",
    "            Qa[pA,pB,ball,actA, actB] = (1-alpha) *Qa[pA,pB,ball,actA, actB] + alpha*((1-gamma)*rewardA + gamma *Va[na, nb, nball])\n",
    "            Qb[pA,pB,ball,actA, actB] = (1-alpha) *Qb[pA,pB,ball,actA, actB] + alpha*((1-gamma)*rewardB + gamma *Vb[na, nb, nball])\n",
    "            \n",
    "\n",
    "        if [pA,pB,ball,actA] == [2,1,1,2,4] or i%1 == 0:\n",
    "            err = abs(Qa[2,1,1,2,4] - old_q_val)\n",
    "\n",
    "            if lost == 0  and won == 0:\n",
    "              wr = 0\n",
    "\n",
    "            else:\n",
    "              wr = won/(won+lost)*100\n",
    "\n",
    "            result.append([i,err,wr, alpha, ep])\n",
    "            print('\\rstep {}\\t Time: {:.2f} \\t Percentage: {:.2f}% \\t Alpha: {:.3f} \\t Epsilon: {:.3f} \\t Err: {:.3f} \\t Win_Rate: {:.3f}'.format(i, time.time() - t_start, i*100/itt, alpha, ep,err,wr), end=\"\")\n",
    "\n",
    "\n",
    "        if greenwald_off_policy == False:\n",
    "            ep *= ep_decay\n",
    "            ep = max(ep_min, ep)\n",
    "        \n",
    "        alpha *= alpha_decay\n",
    "        alpha = max(alpha_min, alpha)\n",
    "\n",
    "        #alpha = 1 / (i / alpha_min / itt + 1)\n",
    "  \n",
    "\n",
    "    return result, Qa, Qb, pi"
   ]
  },
  {
   "cell_type": "code",
   "execution_count": 8,
   "metadata": {
    "executionInfo": {
     "elapsed": 4,
     "status": "ok",
     "timestamp": 1627183278927,
     "user": {
      "displayName": "Adarsh Gouda",
      "photoUrl": "https://lh3.googleusercontent.com/a-/AOh14GiLxey_F4S6zXQQzRixQirKM2ByMsjtktDTWY5hdw=s64",
      "userId": "10706865863009541265"
     },
     "user_tz": 360
    },
    "id": "grbnAwkIVf3d"
   },
   "outputs": [],
   "source": [
    "def ceQ_Tester(env, playerA, playerB, Qa, Qb, pi, oponent = \"Random\", iterations = 10000, start_randomize = False):\n",
    "    \n",
    "    #Greenwalds Off policy definition is different than Sutton's\n",
    "    \n",
    "    itt = iterations #from figure 3\n",
    "    t_start = time.time()\n",
    "    \n",
    "        \n",
    "    Qa = Qa\n",
    "    Qb = Qb\n",
    "    pi= pi\n",
    "        \n",
    "    env.make(start_randomize)\n",
    "    end = 0\n",
    "    \n",
    "    won = 0\n",
    "    lost = 0\n",
    "    wr = 0\n",
    "    \n",
    "    for i in range(itt):\n",
    "        \n",
    "        if end == 1:\n",
    "            env.make(start_randomize)\n",
    "            \n",
    "        pA = playerA.pos\n",
    "        pB = playerB.pos\n",
    "        ball = env.ball\n",
    "        \n",
    "        ind = np.random.choice(np.arange(25),1,p=pi[pA,pB,ball].reshape(25))\n",
    "        act = np.array([ind // 5, ind % 5]).reshape(2)\n",
    "        actA = act[0]\n",
    "        \n",
    "\n",
    "        if oponent == \"Random\":\n",
    "          actB = np.random.choice(5)\n",
    "        else:\n",
    "          actB = act[1]\n",
    "\n",
    "            \n",
    "        next_state, rewardA, rewardB, end = env.step(action1 = actA, action2 = actB)\n",
    "        na, nb, nball = next_state\n",
    "        \n",
    "        if end == 1:\n",
    "            if rewardA == 100:\n",
    "              won += 1\n",
    "            else:\n",
    "              lost += 1\n",
    "        if lost == 0  and won == 0:\n",
    "              wr = 0\n",
    "        else:\n",
    "              wr = won/(won+lost)*100\n",
    "\n",
    "        games = won+lost\n",
    "        \n",
    "\n",
    "        print('\\rstep {}\\t Time: {:.2f} \\t Percentage: {:.2f}% \\t Games: {}\\t Win_Rate: {:.3f}'.format(i, time.time() - t_start, i*100/itt, games, wr), end=\"\")\n",
    " "
   ]
  },
  {
   "cell_type": "code",
   "execution_count": 9,
   "metadata": {
    "colab": {
     "base_uri": "https://localhost:8080/"
    },
    "executionInfo": {
     "elapsed": 4,
     "status": "ok",
     "timestamp": 1627183279261,
     "user": {
      "displayName": "Adarsh Gouda",
      "photoUrl": "https://lh3.googleusercontent.com/a-/AOh14GiLxey_F4S6zXQQzRixQirKM2ByMsjtktDTWY5hdw=s64",
      "userId": "10706865863009541265"
     },
     "user_tz": 360
    },
    "id": "o7fkV1LoYzAL",
    "outputId": "d823093e-0b63-46a6-9966-a3abe5077eb5"
   },
   "outputs": [
    {
     "name": "stdout",
     "output_type": "stream",
     "text": [
      "Player A Created\n",
      "Player B Created\n"
     ]
    }
   ],
   "source": [
    "playerA = player(name=\"A\", ball = 0)\n",
    "playerB = player(name=\"B\", ball = 1)"
   ]
  },
  {
   "cell_type": "code",
   "execution_count": 10,
   "metadata": {
    "executionInfo": {
     "elapsed": 3,
     "status": "ok",
     "timestamp": 1627183279524,
     "user": {
      "displayName": "Adarsh Gouda",
      "photoUrl": "https://lh3.googleusercontent.com/a-/AOh14GiLxey_F4S6zXQQzRixQirKM2ByMsjtktDTWY5hdw=s64",
      "userId": "10706865863009541265"
     },
     "user_tz": 360
    },
    "id": "wQGsSKwGYzCa"
   },
   "outputs": [],
   "source": [
    "env = soccer_game(playerA, playerB)"
   ]
  },
  {
   "cell_type": "code",
   "execution_count": null,
   "metadata": {
    "id": "O_XHiEVsxp_B",
    "scrolled": true
   },
   "outputs": [],
   "source": [
    "Result, Qa, Qb, pi = CEQ_CEQ(env, playerA, playerB, start_randomize = False, greenwald_off_policy = False)\n",
    "file_name = \"CEQ-vs-CEQ-shuffleStart-onPolicy_ones_local.csv\"\n",
    "\n",
    "df = pd.DataFrame(Result, columns = [\"Itteration\",\"Error\", \"WinRate\", \"Alpha\", \"Epsilon\"])\n",
    "df.to_csv(file_name, index=False)\n",
    "\n"
   ]
  },
  {
   "cell_type": "code",
   "execution_count": 20,
   "metadata": {},
   "outputs": [
    {
     "data": {
      "image/png": "[encoded data removed]",
      "text/plain": [
       "<Figure size 576x576 with 1 Axes>"
      ]
     },
     "metadata": {
      "needs_background": "light"
     },
     "output_type": "display_data"
    },
    {
     "data": {
      "text/plain": [
       "<Figure size 432x288 with 0 Axes>"
      ]
     },
     "metadata": {},
     "output_type": "display_data"
    }
   ],
   "source": [
    "pd.DataFrame(np.array(Qa).ravel()).to_csv(\"CEQ-vs-CEQ-shuffleStart-onPolicy_ones_local_Qa.csv\",index=False)\n",
    "pd.DataFrame(np.array(Qb).ravel()).to_csv(\"CEQ-vs-CEQ-shuffleStart-onPolicy_ones_local_Qb.csv\",index=False)\n",
    "pd.DataFrame(np.array(pi).ravel()).to_csv(\"CEQ-vs-CEQ-shuffleStart-onPolicy_ones_local_Pi.csv\",index=False)\n",
    "\n",
    "graph_error(df[\"Error\"], df[\"Itteration\"], name=\"\", linewidth = 1)"
   ]
  },
  {
   "cell_type": "code",
   "execution_count": null,
   "metadata": {
    "id": "u8NKKrt6aEXG"
   },
   "outputs": [],
   "source": []
  },
  {
   "cell_type": "code",
   "execution_count": null,
   "metadata": {
    "id": "DylTjgpeaEZz"
   },
   "outputs": [],
   "source": []
  },
  {
   "cell_type": "code",
   "execution_count": null,
   "metadata": {
    "id": "Il8WlgdOaEcF"
   },
   "outputs": [],
   "source": []
  },
  {
   "cell_type": "code",
   "execution_count": null,
   "metadata": {
    "id": "msBoHnNYaEes"
   },
   "outputs": [],
   "source": []
  },
  {
   "cell_type": "code",
   "execution_count": null,
   "metadata": {
    "id": "nWLdwDYTaEhI"
   },
   "outputs": [],
   "source": []
  },
  {
   "cell_type": "code",
   "execution_count": null,
   "metadata": {
    "id": "mj-_fKHzaEj7"
   },
   "outputs": [],
   "source": []
  },
  {
   "cell_type": "code",
   "execution_count": null,
   "metadata": {
    "id": "eHU3foK2aEmQ"
   },
   "outputs": [],
   "source": []
  },
  {
   "cell_type": "code",
   "execution_count": null,
   "metadata": {
    "id": "2aZlvF-IaEo4"
   },
   "outputs": [],
   "source": []
  },
  {
   "cell_type": "code",
   "execution_count": null,
   "metadata": {
    "id": "z-R-GFhxaEre"
   },
   "outputs": [],
   "source": []
  }
 ],
 "metadata": {
  "accelerator": "TPU",
  "colab": {
   "authorship_tag": "ABX9TyM/7FqPQjPRx/bP0gMJy1Zr",
   "collapsed_sections": [],
   "machine_shape": "hm",
   "mount_file_id": "1yGAZGRqrUNGYFigrsmkYLNu9f7KLtaEM",
   "name": "ceQ-ceQ.ipynb",
   "provenance": []
  },
  "kernelspec": {
   "display_name": "Python 3",
   "language": "python",
   "name": "python3"
  },
  "language_info": {
   "codemirror_mode": {
    "name": "ipython",
    "version": 3
   },
   "file_extension": ".py",
   "mimetype": "text/x-python",
   "name": "python",
   "nbconvert_exporter": "python",
   "pygments_lexer": "ipython3",
   "version": "3.8.10"
  }
 },
 "nbformat": 4,
 "nbformat_minor": 4
}
