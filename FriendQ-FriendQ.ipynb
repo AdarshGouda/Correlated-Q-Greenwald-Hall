{
 "cells": [
  {
   "cell_type": "code",
   "execution_count": null,
   "metadata": {
    "id": "b9hEqSr9OlAX"
   },
   "outputs": [],
   "source": [
    "import numpy as np\n",
    "import matplotlib.pyplot as plt\n",
    "import time\n",
    "import cvxpy as cp\n",
    "import pandas as pd"
   ]
  },
  {
   "cell_type": "code",
   "execution_count": null,
   "metadata": {
    "id": "vffY7gpBOtBA"
   },
   "outputs": [],
   "source": [
    "class soccer_game():\n",
    "    \n",
    "    def __init__(self, playerA, playerB):\n",
    "        self.player1 = playerA\n",
    "        self.player2 = playerB\n",
    "        \n",
    "        self.rows = 2\n",
    "        self.columns = 4\n",
    "        \n",
    "        self.player1_goal = [0,4]\n",
    "        self.player2_goal = [3,7]\n",
    "        \n",
    "        self.ball = np.random.randint(2) #0 or 1 at random\n",
    "        \n",
    "        self.ball_possession = playerA.pos\n",
    "        \n",
    "    def state(self):\n",
    "        return [A.pos, B.pos, game.ball]\n",
    "        \n",
    "    def make(self, randomize = False):\n",
    "        available_cells = [1,2,5,6]\n",
    "        \n",
    "        random_cell = np.random.choice(len(available_cells), 2, replace=False)\n",
    "        \n",
    "        if randomize:\n",
    "            \n",
    "            playerA.pos = available_cells[random_cell[0]]\n",
    "            playerB.pos = available_cells[random_cell[1]]\n",
    "            \n",
    "            if np.random.randint(2)==0:\n",
    "                self.ball = playerA.ball\n",
    "                self.ball_possession = playerA.pos\n",
    "            else:\n",
    "                self.ball = playerB.ball\n",
    "                self.ball_possession = playerB.pos\n",
    "                \n",
    "        else:\n",
    "            \n",
    "            playerA.pos = 2\n",
    "            playerB.pos = 1\n",
    "            self.ball = playerB.ball\n",
    "            self.ball_possession = playerB.pos\n",
    "            \n",
    "    def move(self, player, action):\n",
    "        \n",
    "        if action == 0 and player.pos>3:\n",
    "            new_loc = player.pos - 4\n",
    "            \n",
    "        elif action ==1 and player.pos not in self.player2_goal:\n",
    "            new_loc = player.pos + 1\n",
    "            \n",
    "        elif action == 2 and player.pos<4:\n",
    "            new_loc = player.pos + 4\n",
    "            \n",
    "        elif action == 3 and player.pos not in self.player1_goal:\n",
    "            new_loc = player.pos - 1\n",
    "            \n",
    "        else:\n",
    "            new_loc = player.pos\n",
    "            \n",
    "        return new_loc\n",
    "        \n",
    "    def actions(self, player1, player2, action1, action2):\n",
    "        new_loc1 = self.move(player1, action1)\n",
    "        new_loc2 = self.move(player2, action2)\n",
    "        \n",
    "        if new_loc1 != player2.pos: #Always player1 moves first\n",
    "            player1.pos = new_loc1 #moving to the available cell\n",
    "        else:\n",
    "            self.ball = player2.ball #Ball moves to opponent if the cell is occupied\n",
    "            \n",
    "        if new_loc2 != player1.pos:\n",
    "            player2.pos = new_loc2\n",
    "        else:\n",
    "            self.ball = player1.ball\n",
    "            \n",
    "        if self.ball:                              \n",
    "            self.ball_possession = player1.pos\n",
    "        else:\n",
    "            self.ball_possession = player2.pos\n",
    "            \n",
    "    def step(self, action1, action2):\n",
    "        \n",
    "        p1 = self.player1\n",
    "        p2 = self.player2\n",
    "        \n",
    "        if np.random.randint(2)==0:\n",
    "            self.actions(p1, p2, action1, action2)\n",
    "        else:\n",
    "            self.actions(p2, p1, action2, action1)\n",
    "            \n",
    "        if self.ball_possession in self.player1_goal:\n",
    "            reward_1 = 100\n",
    "            reward_2 = -100\n",
    "            end = 1\n",
    "            #print(\"Goal by PlayerA!\")\n",
    "        \n",
    "        elif self.ball_possession in self.player2_goal:\n",
    "            reward_1 = -100\n",
    "            reward_2 = 100\n",
    "            end = 1\n",
    "            #print(\"Goal by PlayerB!\")\n",
    "            \n",
    "        else:\n",
    "            reward_1 = 0\n",
    "            reward_2 = 0\n",
    "            end = 0\n",
    "            \n",
    "        return self.state(), reward_1, reward_2, end\n",
    "    \n",
    "    def state(self):\n",
    "        return [playerA.pos, playerB.pos, env.ball]"
   ]
  },
  {
   "cell_type": "code",
   "execution_count": null,
   "metadata": {
    "id": "6ZuRsyLWOtDX"
   },
   "outputs": [],
   "source": [
    "class player():\n",
    "\n",
    "    def __init__(self, name=\"\", ball = None):\n",
    "        self.name = name\n",
    "        self.score = 0\n",
    "        self.pos = 0\n",
    "        self.ball = ball"
   ]
  },
  {
   "cell_type": "code",
   "execution_count": null,
   "metadata": {
    "id": "nHRJ6KWuOtF_"
   },
   "outputs": [],
   "source": [
    "import matplotlib\n",
    "def graph_error(error_list, iter_list, name=\"Q Learning\", linewidth = 1):\n",
    "    plt.figure(figsize=[8,8])\n",
    "    matplotlib.rc('xtick', labelsize=15) \n",
    "    matplotlib.rc('ytick', labelsize=15)\n",
    "    plt.plot(iter_list, error_list, linewidth = linewidth)\n",
    "    plt.ticklabel_format(style='sci', axis='x', scilimits=(0, 0))\n",
    "    plt.title(name)\n",
    "    plt.xlabel('Iteration')\n",
    "    plt.ylim(0, 0.5)\n",
    "    plt.ylabel('Q Value Difference')\n",
    "    plt.show()\n",
    "    plt.gcf().clear()"
   ]
  },
  {
   "cell_type": "code",
   "execution_count": null,
   "metadata": {
    "id": "lNsxohmpOtIg"
   },
   "outputs": [],
   "source": [
    "def Friend_Q(env, playerA, playerB, start_randomize = False, greenwald_off_policy = False, epsilon = 1.0, alpha = 1.0):\n",
    "    \n",
    "    #Greenwalds Off policy definition is different than Sutton's\n",
    "    \n",
    "    itt = 10**6 #from figure 3\n",
    "    t_start = time.time()\n",
    "    \n",
    "    ep = 1.0\n",
    "    ep_min = 0.01\n",
    "    ep_decay = 10**(np.log10(ep_min)/itt)\n",
    "    \n",
    "    alpha = 1.0\n",
    "    alpha_min = 0.001\n",
    "    alpha_decay = 10**(np.log10(ep_min)/itt)\n",
    "    \n",
    "    gamma = 0.99\n",
    "    \n",
    "    Qa = np.random.random((8, 8, 2, 5, 5))\n",
    "    Qb = np.random.random((8, 8, 2, 5, 5))\n",
    "    \n",
    "    env.make(start_randomize)\n",
    "    end = 0\n",
    "    \n",
    "    error = []\n",
    "    seq = []\n",
    "    won = 0\n",
    "    lost = 0\n",
    "    wr = 0\n",
    "    result = []\n",
    "    \n",
    "    for i in range(itt):\n",
    "        \n",
    "        if end == 1:\n",
    "            env.make(start_randomize)\n",
    "            \n",
    "        pA = playerA.pos\n",
    "        pB = playerB.pos\n",
    "        ball = env.ball\n",
    "        \n",
    "        old_q_val = Qa[2,1,1,2,4]\n",
    "\n",
    "        alpha = 1 / (i / alpha_min / itt + 1)\n",
    "        \n",
    "        if ep > np.random.random():\n",
    "            \n",
    "            actA = np.random.choice(5) #5 actions\n",
    "                       \n",
    "        else:\n",
    "            #idx = np.where(Qa[pA, pB, ball] == np.max(Qa[pA, pB, ball]))\n",
    "            #actA = idx[1][np.random.choice(range(len(idx[0])), 1)[0]]\n",
    "            \n",
    "            col_A = np.amax(Qa[pA, pB, ball].T, axis=0)\n",
    "            actA = np.random.choice(np.flatnonzero(col_A == col_A.max()))\n",
    "            \n",
    "        if ep > np.random.random():\n",
    "            \n",
    "            actB = np.random.choice(5)\n",
    "            \n",
    "        else:\n",
    "            #idx = np.where(Qb[pA, pB, ball] == np.max(Qb[pA, pB, ball]))\n",
    "            #actB = idx[1][np.random.choice(range(len(idx[0])), 1)[0]]\n",
    "            \n",
    "            col_B = np.amax(Qb[pA, pB, ball].T, axis=0)\n",
    "            actB = np.random.choice(np.flatnonzero(col_B == col_B.max()))\n",
    "            \n",
    "        next_state, rewardA, rewardB, end = env.step(action1 = actA, action2 = actB)\n",
    "        na, nb, nball = next_state\n",
    "        \n",
    "        if end == 1:\n",
    "            Qa[pA,pB,ball,actA, actB] = (1-alpha) *Qa[pA,pB,ball,actA, actB] + alpha*(1-gamma)*rewardA\n",
    "            Qb[pA,pB,ball,actA, actB] = (1-alpha) *Qb[pA,pB,ball,actA, actB] + alpha*(1-gamma)*rewardB\n",
    "\n",
    "            if rewardA == 100:\n",
    "              won += 1\n",
    "            else:\n",
    "              lost += 1\n",
    "        else:\n",
    "            \n",
    "            Qa[pA,pB,ball,actA, actB] = (1-alpha) *Qa[pA,pB,ball,actA, actB] + alpha*((1-gamma)*rewardA + gamma * np.max(Qa[na, nb, nball]))\n",
    "            Qb[pA,pB,ball,actA, actB] = (1-alpha) *Qb[pA,pB,ball,actA, actB] + alpha*((1-gamma)*rewardB + gamma * np.max(Qb[na, nb, nball]))\n",
    "        \n",
    "        if [pA, pB, ball, actA, actB] == [2, 1, 1, 2, 4] or i%1==0:\n",
    "            err = abs(Qa[2,1,1,2,4] - old_q_val)\n",
    "\n",
    "            if lost == 0  and won == 0:\n",
    "              wr = 0\n",
    "\n",
    "            else:\n",
    "              wr = won/(won+lost)*100\n",
    "\n",
    "            result.append([i,err,wr, alpha, ep])\n",
    "            print('\\rstep {}\\t Time: {:.2f} \\t Percentage: {:.2f}% \\t Alpha: {:.3f} \\t Epsilon: {:.3f} \\t Err: {:.3f} \\t Win_Rate: {:.3f}'.format(i, time.time() - t_start, i*100/itt, alpha, ep,err,wr), end=\"\")\n",
    "\n",
    "\n",
    "        if greenwald_off_policy == False:\n",
    "            ep *= ep_decay\n",
    "            ep = max(ep_min, ep)\n",
    "        \n",
    "        alpha *= alpha_decay\n",
    "        alpha = max(alpha_min, alpha)\n",
    "\n",
    "        \n",
    "  \n",
    "\n",
    "    return result, Qa, Qb"
   ]
  },
  {
   "cell_type": "code",
   "execution_count": null,
   "metadata": {
    "id": "nTQmCnuuYsIX"
   },
   "outputs": [],
   "source": [
    "def FQ_Tester(env, playerA, playerB, Qa, Qb, oponent = \"Random\", iterations = 10000, start_randomize = False):\n",
    "    \n",
    "    #Greenwalds Off policy definition is different than Sutton's\n",
    "    \n",
    "    itt = iterations #from figure 3\n",
    "    t_start = time.time()\n",
    "    \n",
    "        \n",
    "    Qa = Qa\n",
    "    Qb = Qb\n",
    "        \n",
    "    env.make(start_randomize)\n",
    "    end = 0\n",
    "    \n",
    "    won = 0\n",
    "    lost = 0\n",
    "    wr = 0\n",
    "    \n",
    "    for i in range(itt):\n",
    "        \n",
    "        if end == 1:\n",
    "            env.make(start_randomize)\n",
    "            \n",
    "        pA = playerA.pos\n",
    "        pB = playerB.pos\n",
    "        ball = env.ball\n",
    "        \n",
    "        col_A = np.amax(Qa[pA, pB, ball].T, axis=0)\n",
    "        actA = np.random.choice(np.flatnonzero(col_A == col_A.max()))\n",
    "\n",
    "        if oponent == \"Random\":\n",
    "          actB = np.random.choice(5)\n",
    "        else:\n",
    "          col_B = np.amax(Qb[pA, pB, ball].T, axis=0)\n",
    "          actB = np.random.choice(np.flatnonzero(col_B == col_B.max()))\n",
    "\n",
    "            \n",
    "        next_state, rewardA, rewardB, end = env.step(action1 = actA, action2 = actB)\n",
    "        na, nb, nball = next_state\n",
    "        \n",
    "        if end == 1:\n",
    "            if rewardA == 100:\n",
    "              won += 1\n",
    "            else:\n",
    "              lost += 1\n",
    "        if lost == 0  and won == 0:\n",
    "              wr = 0\n",
    "        else:\n",
    "              wr = won/(won+lost)*100\n",
    "\n",
    "        games = won+lost\n",
    "        \n",
    "\n",
    "        print('\\rstep {}\\t Time: {:.2f} \\t Percentage: {:.2f}% \\t Games: {}\\t Win_Rate: {:.3f}'.format(i, time.time() - t_start, i*100/itt, games, wr), end=\"\")\n",
    " \n",
    "    return wr"
   ]
  },
  {
   "cell_type": "code",
   "execution_count": null,
   "metadata": {
    "id": "ayoD7pAqOtKv"
   },
   "outputs": [],
   "source": [
    "playerA = player(name=\"A\", ball = 0)\n",
    "playerB = player(name=\"B\", ball = 1)"
   ]
  },
  {
   "cell_type": "code",
   "execution_count": null,
   "metadata": {
    "id": "ANHnh-dJOtNI"
   },
   "outputs": [],
   "source": [
    "env = soccer_game(playerA, playerB)"
   ]
  },
  {
   "cell_type": "code",
   "execution_count": null,
   "metadata": {
    "colab": {
     "base_uri": "https://localhost:8080/"
    },
    "executionInfo": {
     "elapsed": 643413,
     "status": "ok",
     "timestamp": 1627098839413,
     "user": {
      "displayName": "Adarsh Gouda",
      "photoUrl": "https://lh3.googleusercontent.com/a-/AOh14GiLxey_F4S6zXQQzRixQirKM2ByMsjtktDTWY5hdw=s64",
      "userId": "10706865863009541265"
     },
     "user_tz": 360
    },
    "id": "MTkD59c9OtZY",
    "outputId": "c925e98c-6092-49e4-fa19-a73b84e0aa9f"
   },
   "outputs": [
    {
     "name": "stdout",
     "output_type": "stream",
     "text": [
      "step 999999\t Time: 635.29 \t Percentage: 100.00% \t Alpha: 0.001 \t Epsilon: 0.001 \t Err: 0.000 \t Win_Rate: 38.807"
     ]
    }
   ],
   "source": [
    "Result, Qa, Qb, = Friend_Q(env, playerA, playerB, start_randomize = False, greenwald_off_policy = False, epsilon = 1.0, alpha = 1.0)\n",
    "file_name = \"/content/drive/MyDrive/Colab Notebooks/CEQ/FriendQ-FriendQ/FriendQ-vs-FriendQ-shuffleStart-onPolicy.csv\"\n",
    "\n",
    "df = pd.DataFrame(Result, columns = [\"Itteration\",\"Error\", \"WinRate\", \"Alpha\", \"Epsilon\"])\n",
    "df.to_csv(file_name, index=False)\n",
    "\n",
    "pd.DataFrame(np.array(Qa).ravel()).to_csv(\"/content/drive/MyDrive/Colab Notebooks/CEQ/FriendQ-FriendQ/FriendQ-vs-FriendQ-shuffleStart-onPolicy_Qa.csv\",index=False)\n",
    "pd.DataFrame(np.array(Qb).ravel()).to_csv(\"/content/drive/MyDrive/Colab Notebooks/CEQ/FriendQ-FriendQ/FriendQ-vs-FriendQ-shuffleStart-onPolicy_Qb.csv\",index=False)\n"
   ]
  },
  {
   "cell_type": "code",
   "execution_count": null,
   "metadata": {
    "colab": {
     "base_uri": "https://localhost:8080/",
     "height": 529
    },
    "executionInfo": {
     "elapsed": 339,
     "status": "ok",
     "timestamp": 1627099676763,
     "user": {
      "displayName": "Adarsh Gouda",
      "photoUrl": "https://lh3.googleusercontent.com/a-/AOh14GiLxey_F4S6zXQQzRixQirKM2ByMsjtktDTWY5hdw=s64",
      "userId": "10706865863009541265"
     },
     "user_tz": 360
    },
    "id": "JvhvGipSlUmM",
    "outputId": "70d0c160-70ce-4805-c167-ffda41e53b52"
   },
   "outputs": [
    {
     "data": {
      "image/png": "[encoded data removed]",
      "text/plain": [
       "<Figure size 576x576 with 1 Axes>"
      ]
     },
     "metadata": {
      "needs_background": "light",
      "tags": []
     },
     "output_type": "display_data"
    },
    {
     "data": {
      "text/plain": [
       "<Figure size 432x288 with 0 Axes>"
      ]
     },
     "metadata": {
      "tags": []
     },
     "output_type": "display_data"
    }
   ],
   "source": [
    "graph_error(df[\"Error\"], df[\"Itteration\"], name=\"\", linewidth = 1)"
   ]
  },
  {
   "cell_type": "code",
   "execution_count": null,
   "metadata": {
    "colab": {
     "base_uri": "https://localhost:8080/"
    },
    "executionInfo": {
     "elapsed": 661911,
     "status": "ok",
     "timestamp": 1627105745009,
     "user": {
      "displayName": "Adarsh Gouda",
      "photoUrl": "https://lh3.googleusercontent.com/a-/AOh14GiLxey_F4S6zXQQzRixQirKM2ByMsjtktDTWY5hdw=s64",
      "userId": "10706865863009541265"
     },
     "user_tz": 360
    },
    "id": "g9NqC-TeBDw7",
    "outputId": "77932cba-d93b-4ce2-912a-2826b50d2e23"
   },
   "outputs": [
    {
     "name": "stdout",
     "output_type": "stream",
     "text": [
      "step 999999\t Time: 653.47 \t Percentage: 100.00% \t Alpha: 0.001 \t Epsilon: 0.010 \t Err: 0.000 \t Win_Rate: 27.633"
     ]
    }
   ],
   "source": [
    "# changed gamma to 0.99, min e to 0.01, No good results.\n",
    "\n",
    "Result, Qa, Qb, = Friend_Q(env, playerA, playerB, start_randomize = False, greenwald_off_policy = False, epsilon = 1.0, alpha = 1.0)\n",
    "file_name = \"/content/drive/MyDrive/Colab Notebooks/CEQ/FriendQ-FriendQ/FriendQ-vs-FriendQ-shuffleStart-onPolicy_1.csv\"\n",
    "\n",
    "df = pd.DataFrame(Result, columns = [\"Itteration\",\"Error\", \"WinRate\", \"Alpha\", \"Epsilon\"])\n",
    "df.to_csv(file_name, index=False)\n",
    "\n",
    "pd.DataFrame(np.array(Qa).ravel()).to_csv(\"/content/drive/MyDrive/Colab Notebooks/CEQ/FriendQ-FriendQ/FriendQ-vs-FriendQ-shuffleStart-onPolicy_Qa_1.csv\",index=False)\n",
    "pd.DataFrame(np.array(Qb).ravel()).to_csv(\"/content/drive/MyDrive/Colab Notebooks/CEQ/FriendQ-FriendQ/FriendQ-vs-FriendQ-shuffleStart-onPolicy_Qb_1.csv\",index=False)"
   ]
  },
  {
   "cell_type": "code",
   "execution_count": null,
   "metadata": {
    "colab": {
     "base_uri": "https://localhost:8080/",
     "height": 529
    },
    "executionInfo": {
     "elapsed": 250,
     "status": "ok",
     "timestamp": 1627105745257,
     "user": {
      "displayName": "Adarsh Gouda",
      "photoUrl": "https://lh3.googleusercontent.com/a-/AOh14GiLxey_F4S6zXQQzRixQirKM2ByMsjtktDTWY5hdw=s64",
      "userId": "10706865863009541265"
     },
     "user_tz": 360
    },
    "id": "CmeiljexBDzr",
    "outputId": "b201eb5b-3ad7-4513-dd5a-7dd65452005d"
   },
   "outputs": [
    {
     "data": {
      "image/png": "[encoded data removed]",
      "text/plain": [
       "<Figure size 576x576 with 1 Axes>"
      ]
     },
     "metadata": {
      "needs_background": "light",
      "tags": []
     },
     "output_type": "display_data"
    },
    {
     "data": {
      "text/plain": [
       "<Figure size 432x288 with 0 Axes>"
      ]
     },
     "metadata": {
      "tags": []
     },
     "output_type": "display_data"
    }
   ],
   "source": [
    "graph_error(df[\"Error\"], df[\"Itteration\"], name=\"\", linewidth = 1)"
   ]
  },
  {
   "cell_type": "code",
   "execution_count": null,
   "metadata": {
    "colab": {
     "base_uri": "https://localhost:8080/"
    },
    "executionInfo": {
     "elapsed": 4534,
     "status": "ok",
     "timestamp": 1627101693766,
     "user": {
      "displayName": "Adarsh Gouda",
      "photoUrl": "https://lh3.googleusercontent.com/a-/AOh14GiLxey_F4S6zXQQzRixQirKM2ByMsjtktDTWY5hdw=s64",
      "userId": "10706865863009541265"
     },
     "user_tz": 360
    },
    "id": "NokPOB5gOton",
    "outputId": "87cf616d-e1bb-4f0b-a3d9-50e7a7d140f9"
   },
   "outputs": [
    {
     "name": "stdout",
     "output_type": "stream",
     "text": [
      "step 9999\t Time: 4.30 \t Percentage: 99.99% \t Games: 1445\t Win_Rate: 77.163"
     ]
    }
   ],
   "source": [
    "playerA = player(name=\"A\", ball = 0)\n",
    "playerB = player(name=\"B\", ball = 1)\n",
    "env = soccer_game(playerA, playerB)\n",
    "wr = FQ_Tester(env, playerA, playerB, Qa, Qb, oponent = \"Random\", iterations = 10000, start_randomize = False)"
   ]
  },
  {
   "cell_type": "code",
   "execution_count": null,
   "metadata": {
    "colab": {
     "base_uri": "https://localhost:8080/"
    },
    "executionInfo": {
     "elapsed": 5313,
     "status": "ok",
     "timestamp": 1627101699076,
     "user": {
      "displayName": "Adarsh Gouda",
      "photoUrl": "https://lh3.googleusercontent.com/a-/AOh14GiLxey_F4S6zXQQzRixQirKM2ByMsjtktDTWY5hdw=s64",
      "userId": "10706865863009541265"
     },
     "user_tz": 360
    },
    "id": "-tJNyzCfOtuA",
    "outputId": "15227fbf-f75d-4a32-a807-315b7a2e2128"
   },
   "outputs": [
    {
     "name": "stdout",
     "output_type": "stream",
     "text": [
      "step 9999\t Time: 5.36 \t Percentage: 99.99% \t Games: 0\t Win_Rate: 0.000"
     ]
    }
   ],
   "source": [
    "playerA = player(name=\"A\", ball = 0)\n",
    "playerB = player(name=\"B\", ball = 1)\n",
    "\n",
    "env = soccer_game(playerA, playerB)\n",
    "\n",
    "wr = FQ_Tester(env, playerA, playerB, Qa, Qb, oponent = \"FQ\", iterations = 10000, start_randomize = False)"
   ]
  },
  {
   "cell_type": "code",
   "execution_count": null,
   "metadata": {
    "id": "Ck9sMBGtOtwe"
   },
   "outputs": [],
   "source": []
  },
  {
   "cell_type": "code",
   "execution_count": null,
   "metadata": {
    "id": "tlbcTvoPOtzF"
   },
   "outputs": [],
   "source": []
  },
  {
   "cell_type": "code",
   "execution_count": null,
   "metadata": {
    "id": "spQjEfVAOt1k"
   },
   "outputs": [],
   "source": []
  },
  {
   "cell_type": "code",
   "execution_count": null,
   "metadata": {
    "id": "CbqX34Q7Ot4Q"
   },
   "outputs": [],
   "source": []
  },
  {
   "cell_type": "code",
   "execution_count": null,
   "metadata": {
    "id": "fEaAHVOHOt7A"
   },
   "outputs": [],
   "source": []
  },
  {
   "cell_type": "code",
   "execution_count": null,
   "metadata": {
    "id": "KhUQlqFqOt9o"
   },
   "outputs": [],
   "source": []
  },
  {
   "cell_type": "code",
   "execution_count": null,
   "metadata": {
    "id": "JoociroaOuAn"
   },
   "outputs": [],
   "source": []
  }
 ],
 "metadata": {
  "colab": {
   "authorship_tag": "ABX9TyPMn8/RMb9w0/BEdq/dT2tb",
   "collapsed_sections": [],
   "mount_file_id": "1GfIWSMonD1JQkxjalGEWeUBslEBuSJ_P",
   "name": "FriendQ-FriendQ.ipynb",
   "provenance": []
  },
  "kernelspec": {
   "display_name": "Python 3",
   "language": "python",
   "name": "python3"
  },
  "language_info": {
   "codemirror_mode": {
    "name": "ipython",
    "version": 3
   },
   "file_extension": ".py",
   "mimetype": "text/x-python",
   "name": "python",
   "nbconvert_exporter": "python",
   "pygments_lexer": "ipython3",
   "version": "3.8.10"
  }
 },
 "nbformat": 4,
 "nbformat_minor": 1
}
