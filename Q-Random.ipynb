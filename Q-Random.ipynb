{
 "cells": [
  {
   "cell_type": "code",
   "execution_count": null,
   "id": "hasBTFTlMnzz",
   "metadata": {
    "colab": {
     "base_uri": "https://localhost:8080/"
    },
    "executionInfo": {
     "elapsed": 30308,
     "status": "ok",
     "timestamp": 1626800568089,
     "user": {
      "displayName": "Adarsh Gouda",
      "photoUrl": "https://lh3.googleusercontent.com/a-/AOh14GiLxey_F4S6zXQQzRixQirKM2ByMsjtktDTWY5hdw=s64",
      "userId": "10706865863009541265"
     },
     "user_tz": 360
    },
    "id": "hasBTFTlMnzz",
    "outputId": "a3ed3f24-c35c-421c-80bb-26089dffddda"
   },
   "outputs": [
    {
     "name": "stdout",
     "output_type": "stream",
     "text": [
      "Mounted at /content/drive\n"
     ]
    }
   ],
   "source": [
    "from google.colab import drive\n",
    "drive.mount('/content/drive')"
   ]
  },
  {
   "cell_type": "code",
   "execution_count": null,
   "id": "64bbe9b6-30d2-4d88-9f78-4a81f0b21798",
   "metadata": {
    "id": "64bbe9b6-30d2-4d88-9f78-4a81f0b21798"
   },
   "outputs": [],
   "source": [
    "import numpy as np\n",
    "import matplotlib.pyplot as plt\n",
    "import time\n",
    "import cvxpy as cp\n",
    "import pandas as pd"
   ]
  },
  {
   "cell_type": "code",
   "execution_count": null,
   "id": "71ce27db-f415-4ba3-ac6c-62459e148299",
   "metadata": {
    "id": "71ce27db-f415-4ba3-ac6c-62459e148299"
   },
   "outputs": [],
   "source": [
    "class soccer_game():\n",
    "    \n",
    "    def __init__(self, playerA, playerB):\n",
    "        self.player1 = playerA\n",
    "        self.player2 = playerB\n",
    "        \n",
    "        self.rows = 2\n",
    "        self.columns = 4\n",
    "        \n",
    "        self.player1_goal = [0,4]\n",
    "        self.player2_goal = [3,7]\n",
    "        \n",
    "        self.ball = np.random.randint(2) #0 or 1 at random\n",
    "        \n",
    "        self.ball_possession = playerA.pos\n",
    "        \n",
    "    def state(self):\n",
    "        return [A.pos, B.pos, game.ball]\n",
    "        \n",
    "    def make(self, randomize = True):\n",
    "        available_cells = [1,2,5,6]\n",
    "        \n",
    "        random_cell = np.random.choice(len(available_cells), 2, replace=False)\n",
    "        \n",
    "        if randomize:\n",
    "            \n",
    "            playerA.pos = available_cells[random_cell[0]]\n",
    "            playerB.pos = available_cells[random_cell[1]]\n",
    "            \n",
    "            if np.random.randint(2)==0:\n",
    "                self.ball = playerA.ball\n",
    "                self.ball_possession = playerA.pos\n",
    "            else:\n",
    "                self.ball = playerB.ball\n",
    "                self.ball_possession = playerB.pos\n",
    "                \n",
    "        else:\n",
    "            \n",
    "            playerA.pos = 2\n",
    "            playerB.pos = 1\n",
    "            self.ball = playerB.ball\n",
    "            self.ball_possession = playerB.pos\n",
    "            \n",
    "    def move(self, player, action):\n",
    "        \n",
    "        if action == 0 and player.pos>3:\n",
    "            new_loc = player.pos - 4\n",
    "            \n",
    "        elif action ==1 and player.pos not in self.player2_goal:\n",
    "            new_loc = player.pos + 1\n",
    "            \n",
    "        elif action == 2 and player.pos<4:\n",
    "            new_loc = player.pos + 4\n",
    "            \n",
    "        elif action == 3 and player.pos not in self.player1_goal:\n",
    "            new_loc = player.pos - 1\n",
    "            \n",
    "        else:\n",
    "            new_loc = player.pos\n",
    "            \n",
    "        return new_loc\n",
    "        \n",
    "    def actions(self, player1, player2, action1, action2):\n",
    "        new_loc1 = self.move(player1, action1)\n",
    "        new_loc2 = self.move(player2, action2)\n",
    "        \n",
    "        if new_loc1 != player2.pos: #Always player1 moves first\n",
    "            player1.pos = new_loc1 #moving to the available cell\n",
    "        else:\n",
    "            self.ball = player2.ball #Ball moves to opponent if the cell is occupied\n",
    "            \n",
    "        if new_loc2 != player1.pos:\n",
    "            player2.pos = new_loc2\n",
    "        else:\n",
    "            self.ball = player1.ball\n",
    "            \n",
    "        if self.ball:                             \n",
    "            self.ball_possession = player1.pos\n",
    "        else:\n",
    "            self.ball_possession = player2.pos\n",
    "            \n",
    "    def step(self, action1, action2):\n",
    "        \n",
    "        p1 = self.player1\n",
    "        p2 = self.player2\n",
    "        \n",
    "        if np.random.randint(2)==0:\n",
    "            self.actions(p1, p2, action1, action2)\n",
    "        else:\n",
    "            self.actions(p2, p1, action2, action1)\n",
    "            \n",
    "        if self.ball_possession in self.player1_goal:\n",
    "            reward_1 = 100\n",
    "            reward_2 = -100\n",
    "            end = 1\n",
    "            #print(\"Goal by PlayerA!\")\n",
    "        \n",
    "        elif self.ball_possession in self.player2_goal:\n",
    "            reward_1 = -100\n",
    "            reward_2 = 100\n",
    "            end = 1\n",
    "            #print(\"Goal by PlayerB!\")\n",
    "            \n",
    "        else:\n",
    "            reward_1 = 0\n",
    "            reward_2 = 0\n",
    "            end = 0\n",
    "            \n",
    "        return self.state(), reward_1, reward_2, end\n",
    "    \n",
    "    def state(self):\n",
    "        return [playerA.pos, playerB.pos, env.ball]\n",
    "             "
   ]
  },
  {
   "cell_type": "code",
   "execution_count": null,
   "id": "8da03340-b561-4365-a64c-6186b2b0a9bd",
   "metadata": {
    "id": "8da03340-b561-4365-a64c-6186b2b0a9bd"
   },
   "outputs": [],
   "source": [
    "class player():\n",
    "\n",
    "    def __init__(self, name=\"\", ball = None):\n",
    "        self.name = name\n",
    "        self.score = 0\n",
    "        self.pos = 0\n",
    "        self.ball = ball\n",
    "        print(\"Player {} Created\".format(name))\n"
   ]
  },
  {
   "cell_type": "code",
   "execution_count": null,
   "id": "efdaf599-76da-4780-963c-d17c45a4c769",
   "metadata": {
    "id": "efdaf599-76da-4780-963c-d17c45a4c769"
   },
   "outputs": [],
   "source": [
    "def graph_error(error_list, iter_list, name=\"Q Learning\", linewidth = 1):\n",
    "\n",
    "    plt.plot(iter_list, error_list, linewidth = linewidth)\n",
    "    plt.ticklabel_format(style='sci', axis='x', scilimits=(0, 0))\n",
    "    plt.title(name)\n",
    "    plt.xlabel('Iteration')\n",
    "    plt.ylim(0, 0.5)\n",
    "    plt.ylabel('Q Value Difference')\n",
    "    plt.show()\n",
    "    plt.gcf().clear()"
   ]
  },
  {
   "cell_type": "code",
   "execution_count": null,
   "id": "119bd9a3-47e9-4d11-8a00-3b0def22e2fb",
   "metadata": {
    "id": "119bd9a3-47e9-4d11-8a00-3b0def22e2fb"
   },
   "outputs": [],
   "source": [
    "def Q_Learning(env, playerA, playerB, start_randomize = True, greenwald_off_policy = True):\n",
    "    \n",
    "    #Greenwalds Off policy definition is different than Sutton's\n",
    "    \n",
    "    itt = 10**6 #from figure 3\n",
    "    t_start = time.time()\n",
    "    \n",
    "    ep = 1.0\n",
    "    ep_min = 0.001\n",
    "    #ep_decay = 0.9999954\n",
    "    \n",
    "    alpha = 1.0\n",
    "    alpha_min = 0.001\n",
    "    #alpha_decay = 0.999995\n",
    "    \n",
    "    gamma = 0.9\n",
    "    \n",
    "    Qa = np.zeros([8, 8, 2, 5])\n",
    "    Qb = np.zeros([8, 8, 2, 5])\n",
    "    \n",
    "    env.make(start_randomize)\n",
    "    end = 0\n",
    "    \n",
    "    error = []\n",
    "    seq = []\n",
    "    won = 0\n",
    "    lost = 0\n",
    "    wr = 0\n",
    "    result = []\n",
    "    \n",
    "    for i in range(itt):\n",
    "        \n",
    "        if end == 1:\n",
    "            env.make(start_randomize)\n",
    "            \n",
    "        pA = playerA.pos\n",
    "        pB = playerB.pos\n",
    "        ball = env.ball\n",
    "        \n",
    "        old_q_val = Qa[2,1,1,2]\n",
    "        \n",
    "        if ep > np.random.random():\n",
    "            \n",
    "            actA = np.random.choice(5) #5 actions\n",
    "            actB = np.random.choice(5)\n",
    "            \n",
    "        else:\n",
    "            actA = np.argmax(Qa[pA, pB, ball])\n",
    "            #actB = np.argmax(Qb[pA, pB, ball])  #Assumption\n",
    "            actB = np.random.choice(5)\n",
    "            \n",
    "        next_state, rewardA, rewardB, end = env.step(action1 = actA, action2 = actB)\n",
    "        na, nb, nball = next_state\n",
    "        \n",
    "        if end == 1:\n",
    "            Qa[pA,pB,ball,actA] = (1-alpha) *Qa[pA,pB,ball,actA] + alpha*(1-gamma)*rewardA\n",
    "\n",
    "            if rewardA == 100:\n",
    "              won += 1\n",
    "            else:\n",
    "              lost += 1\n",
    "\n",
    "        else:\n",
    "            Qa[pA,pB,ball,actA] = (1-alpha) *Qa[pA,pB,ball,actA] + alpha*((1-gamma)*rewardA + gamma *np.max(Qa[na, nb, nball]))\n",
    "        \n",
    "        if [pA, pB, ball, actA] == [2, 1, 1, 2]:\n",
    "            err = abs(Qa[2,1,1,2] - old_q_val)\n",
    "\n",
    "            if lost == 0  and won == 0:\n",
    "              wr = 0\n",
    "\n",
    "            else:\n",
    "              wr = won/(won+lost)*100\n",
    "\n",
    "            result.append([i,err,wr])\n",
    "            print('\\rstep {}\\t Time: {:.2f} \\t Percentage: {:.2f}% \\t Alpha: {:.3f} \\t Epsilon: {:.3f} \\t Err: {:.3f} \\t Win_Rate: {:.3f}'.format(i, time.time() - t_start, i*100/itt, alpha, ep,err,wr), end=\"\")\n",
    " \n",
    "        if greenwald_off_policy == False:\n",
    "            ep *= np.e ** (-np.log(200.0) / 10 ** 6)\n",
    "            ep = max(ep_min, ep)\n",
    "        \n",
    "        alpha *= np.e ** (-np.log(200.0) / 10 ** 6)\n",
    "        alpha = max(alpha_min, alpha)\n",
    "  \n",
    "\n",
    "    return result\n",
    "    "
   ]
  },
  {
   "cell_type": "code",
   "execution_count": null,
   "id": "27bbb34f-d483-45c3-b1de-9e5c660ca3cf",
   "metadata": {
    "colab": {
     "base_uri": "https://localhost:8080/"
    },
    "executionInfo": {
     "elapsed": 6,
     "status": "ok",
     "timestamp": 1626800835921,
     "user": {
      "displayName": "Adarsh Gouda",
      "photoUrl": "https://lh3.googleusercontent.com/a-/AOh14GiLxey_F4S6zXQQzRixQirKM2ByMsjtktDTWY5hdw=s64",
      "userId": "10706865863009541265"
     },
     "user_tz": 360
    },
    "id": "27bbb34f-d483-45c3-b1de-9e5c660ca3cf",
    "outputId": "a1af6f66-92b4-40b6-e014-486a66db239e"
   },
   "outputs": [
    {
     "name": "stdout",
     "output_type": "stream",
     "text": [
      "Player A Created\n",
      "Player B Created\n"
     ]
    }
   ],
   "source": [
    "playerA = player(name=\"A\", ball = 0)\n",
    "playerB = player(name=\"B\", ball = 1)"
   ]
  },
  {
   "cell_type": "code",
   "execution_count": null,
   "id": "56f9dd7a-551b-44e1-8dc1-38f8763dbd37",
   "metadata": {
    "id": "56f9dd7a-551b-44e1-8dc1-38f8763dbd37"
   },
   "outputs": [],
   "source": [
    "env = soccer_game(playerA, playerB)"
   ]
  },
  {
   "cell_type": "code",
   "execution_count": null,
   "id": "3d1e756b-499e-4aa2-a00d-a4fcd4eb8b9f",
   "metadata": {
    "colab": {
     "base_uri": "https://localhost:8080/",
     "height": 329
    },
    "executionInfo": {
     "elapsed": 75700,
     "status": "ok",
     "timestamp": 1626800912600,
     "user": {
      "displayName": "Adarsh Gouda",
      "photoUrl": "https://lh3.googleusercontent.com/a-/AOh14GiLxey_F4S6zXQQzRixQirKM2ByMsjtktDTWY5hdw=s64",
      "userId": "10706865863009541265"
     },
     "user_tz": 360
    },
    "id": "3d1e756b-499e-4aa2-a00d-a4fcd4eb8b9f",
    "outputId": "90ce533f-f1d0-40ab-db01-d760b5ac189c"
   },
   "outputs": [
    {
     "name": "stdout",
     "output_type": "stream",
     "text": [
      "step 999990\t Time: 74.39 \t Percentage: 100.00% \t Alpha: 0.005 \t Epsilon: 1.000 \t Err: 0.000 \t Win_Rate: 49.893"
     ]
    },
    {
     "data": {
      "image/png": "[encoded data removed]",
      "text/plain": [
       "<Figure size 432x288 with 1 Axes>"
      ]
     },
     "metadata": {
      "needs_background": "light",
      "tags": []
     },
     "output_type": "display_data"
    },
    {
     "data": {
      "text/plain": [
       "<Figure size 432x288 with 0 Axes>"
      ]
     },
     "metadata": {
      "tags": []
     },
     "output_type": "display_data"
    }
   ],
   "source": [
    "Result = Q_Learning(env, playerA, playerB, start_randomize = True, greenwald_off_policy = True)\n",
    "\n",
    "file_name = \"/content/drive/MyDrive/Colab Notebooks/CEQ/QvsRandom-shuffleStart-offPolicy\"\n",
    "\n",
    "df = pd.DataFrame(Result, columns = [\"Itteration\",\"Error\", \"WinRate\"])\n",
    "df.to_csv(file_name, index=False)\n",
    "\n",
    "graph_error(df[\"Error\"], df[\"Itteration\"], name=\"Q vs Random\", linewidth = 1)"
   ]
  },
  {
   "cell_type": "code",
   "execution_count": null,
   "id": "n2pLHkG93WI3",
   "metadata": {
    "colab": {
     "base_uri": "https://localhost:8080/",
     "height": 300
    },
    "executionInfo": {
     "elapsed": 617,
     "status": "ok",
     "timestamp": 1626800913204,
     "user": {
      "displayName": "Adarsh Gouda",
      "photoUrl": "https://lh3.googleusercontent.com/a-/AOh14GiLxey_F4S6zXQQzRixQirKM2ByMsjtktDTWY5hdw=s64",
      "userId": "10706865863009541265"
     },
     "user_tz": 360
    },
    "id": "n2pLHkG93WI3",
    "outputId": "5dec6963-3d7a-436c-e815-6932d447ed69"
   },
   "outputs": [
    {
     "data": {
      "text/plain": [
       "(0.0, 100.0)"
      ]
     },
     "execution_count": 22,
     "metadata": {
      "tags": []
     },
     "output_type": "execute_result"
    },
    {
     "data": {
      "image/png": "[encoded data removed]",
      "text/plain": [
       "<Figure size 432x288 with 2 Axes>"
      ]
     },
     "metadata": {
      "needs_background": "light",
      "tags": []
     },
     "output_type": "display_data"
    }
   ],
   "source": [
    "ax = df.plot(\"Itteration\",\"Error\")\n",
    "plt.ylim(0, 0.5)\n",
    "ax1 = ax.twinx()\n",
    "df.plot(\"Itteration\",\"WinRate\",ax=ax1, color='r')\n",
    "plt.ylim(0, 100)"
   ]
  },
  {
   "cell_type": "code",
   "execution_count": null,
   "id": "2698dc12-d04c-4a36-9f1b-5ac54011eb62",
   "metadata": {
    "colab": {
     "base_uri": "https://localhost:8080/",
     "height": 329
    },
    "executionInfo": {
     "elapsed": 88689,
     "status": "ok",
     "timestamp": 1626801001887,
     "user": {
      "displayName": "Adarsh Gouda",
      "photoUrl": "https://lh3.googleusercontent.com/a-/AOh14GiLxey_F4S6zXQQzRixQirKM2ByMsjtktDTWY5hdw=s64",
      "userId": "10706865863009541265"
     },
     "user_tz": 360
    },
    "id": "2698dc12-d04c-4a36-9f1b-5ac54011eb62",
    "outputId": "aea5061e-8316-4747-abc9-d3727642b227"
   },
   "outputs": [
    {
     "name": "stdout",
     "output_type": "stream",
     "text": [
      "step 999977\t Time: 88.62 \t Percentage: 100.00% \t Alpha: 0.005 \t Epsilon: 0.005 \t Err: 0.006 \t Win_Rate: 83.660"
     ]
    },
    {
     "data": {
      "image/png": "[encoded data removed]",
      "text/plain": [
       "<Figure size 432x288 with 1 Axes>"
      ]
     },
     "metadata": {
      "needs_background": "light",
      "tags": []
     },
     "output_type": "display_data"
    },
    {
     "data": {
      "text/plain": [
       "<Figure size 432x288 with 0 Axes>"
      ]
     },
     "metadata": {
      "tags": []
     },
     "output_type": "display_data"
    }
   ],
   "source": [
    "Result = Q_Learning(env, playerA, playerB, start_randomize = True, greenwald_off_policy = False)\n",
    "file_name = \"/content/drive/MyDrive/Colab Notebooks/CEQ/QvsRandom-shuffleStart-onPolicy\"\n",
    "\n",
    "df = pd.DataFrame(Result, columns = [\"Itteration\",\"Error\", \"WinRate\"])\n",
    "df.to_csv(file_name, index=False)\n",
    "\n",
    "graph_error(df[\"Error\"], df[\"Itteration\"], name=\"Q vs Random\", linewidth = 1)"
   ]
  },
  {
   "cell_type": "code",
   "execution_count": null,
   "id": "KgZuiZJ93W5Z",
   "metadata": {
    "colab": {
     "base_uri": "https://localhost:8080/",
     "height": 300
    },
    "executionInfo": {
     "elapsed": 753,
     "status": "ok",
     "timestamp": 1626801002626,
     "user": {
      "displayName": "Adarsh Gouda",
      "photoUrl": "https://lh3.googleusercontent.com/a-/AOh14GiLxey_F4S6zXQQzRixQirKM2ByMsjtktDTWY5hdw=s64",
      "userId": "10706865863009541265"
     },
     "user_tz": 360
    },
    "id": "KgZuiZJ93W5Z",
    "outputId": "e7a1e069-ff30-4967-e717-d61e77ecb0e1"
   },
   "outputs": [
    {
     "data": {
      "text/plain": [
       "(0.0, 100.0)"
      ]
     },
     "execution_count": 24,
     "metadata": {
      "tags": []
     },
     "output_type": "execute_result"
    },
    {
     "data": {
      "image/png": "[encoded data removed]",
      "text/plain": [
       "<Figure size 432x288 with 2 Axes>"
      ]
     },
     "metadata": {
      "needs_background": "light",
      "tags": []
     },
     "output_type": "display_data"
    }
   ],
   "source": [
    "ax = df.plot(\"Itteration\",\"Error\")\n",
    "plt.ylim(0, 0.5)\n",
    "ax1 = ax.twinx()\n",
    "df.plot(\"Itteration\",\"WinRate\",ax=ax1, color='r')\n",
    "plt.ylim(0, 100)"
   ]
  },
  {
   "cell_type": "code",
   "execution_count": null,
   "id": "a6ada682-5d6b-4867-9c5e-a5e0bb463034",
   "metadata": {
    "colab": {
     "base_uri": "https://localhost:8080/",
     "height": 329
    },
    "executionInfo": {
     "elapsed": 113333,
     "status": "ok",
     "timestamp": 1626801115953,
     "user": {
      "displayName": "Adarsh Gouda",
      "photoUrl": "https://lh3.googleusercontent.com/a-/AOh14GiLxey_F4S6zXQQzRixQirKM2ByMsjtktDTWY5hdw=s64",
      "userId": "10706865863009541265"
     },
     "user_tz": 360
    },
    "id": "a6ada682-5d6b-4867-9c5e-a5e0bb463034",
    "outputId": "3f8ab4aa-d974-417c-9800-be7cbb9afa93"
   },
   "outputs": [
    {
     "name": "stdout",
     "output_type": "stream",
     "text": [
      "step 999988\t Time: 112.26 \t Percentage: 100.00% \t Alpha: 0.005 \t Epsilon: 1.000 \t Err: 0.003 \t Win_Rate: 48.963"
     ]
    },
    {
     "data": {
      "image/png": "[encoded data removed]",
      "text/plain": [
       "<Figure size 432x288 with 1 Axes>"
      ]
     },
     "metadata": {
      "needs_background": "light",
      "tags": []
     },
     "output_type": "display_data"
    },
    {
     "data": {
      "text/plain": [
       "<Figure size 432x288 with 0 Axes>"
      ]
     },
     "metadata": {
      "tags": []
     },
     "output_type": "display_data"
    }
   ],
   "source": [
    "Result = Q_Learning(env, playerA, playerB, start_randomize = False, greenwald_off_policy = True)\n",
    "file_name = \"/content/drive/MyDrive/Colab Notebooks/CEQ/QvsRandom-strictStart-offPolicy\"\n",
    "\n",
    "df = pd.DataFrame(Result, columns = [\"Itteration\",\"Error\", \"WinRate\"])\n",
    "df.to_csv(file_name, index=False)\n",
    "\n",
    "graph_error(df[\"Error\"], df[\"Itteration\"], name=\"Q vs Random\", linewidth = 1)"
   ]
  },
  {
   "cell_type": "code",
   "execution_count": null,
   "id": "ynp3_gRa3XrJ",
   "metadata": {
    "colab": {
     "base_uri": "https://localhost:8080/",
     "height": 300
    },
    "executionInfo": {
     "elapsed": 620,
     "status": "ok",
     "timestamp": 1626801116553,
     "user": {
      "displayName": "Adarsh Gouda",
      "photoUrl": "https://lh3.googleusercontent.com/a-/AOh14GiLxey_F4S6zXQQzRixQirKM2ByMsjtktDTWY5hdw=s64",
      "userId": "10706865863009541265"
     },
     "user_tz": 360
    },
    "id": "ynp3_gRa3XrJ",
    "outputId": "95107a79-625c-4435-fb54-de8a0d27da3e"
   },
   "outputs": [
    {
     "data": {
      "text/plain": [
       "(0.0, 100.0)"
      ]
     },
     "execution_count": 26,
     "metadata": {
      "tags": []
     },
     "output_type": "execute_result"
    },
    {
     "data": {
      "image/png": "[encoded data removed]",
      "text/plain": [
       "<Figure size 432x288 with 2 Axes>"
      ]
     },
     "metadata": {
      "needs_background": "light",
      "tags": []
     },
     "output_type": "display_data"
    }
   ],
   "source": [
    "ax = df.plot(\"Itteration\",\"Error\")\n",
    "plt.ylim(0, 0.5)\n",
    "ax1 = ax.twinx()\n",
    "df.plot(\"Itteration\",\"WinRate\",ax=ax1, color='r')\n",
    "plt.ylim(0, 100)"
   ]
  },
  {
   "cell_type": "code",
   "execution_count": null,
   "id": "b42001e4-451a-4f0c-aacd-72aa9028d24c",
   "metadata": {
    "colab": {
     "base_uri": "https://localhost:8080/",
     "height": 329
    },
    "executionInfo": {
     "elapsed": 97923,
     "status": "ok",
     "timestamp": 1626801214470,
     "user": {
      "displayName": "Adarsh Gouda",
      "photoUrl": "https://lh3.googleusercontent.com/a-/AOh14GiLxey_F4S6zXQQzRixQirKM2ByMsjtktDTWY5hdw=s64",
      "userId": "10706865863009541265"
     },
     "user_tz": 360
    },
    "id": "b42001e4-451a-4f0c-aacd-72aa9028d24c",
    "outputId": "43a575a7-b607-403f-a352-b997597e938c"
   },
   "outputs": [
    {
     "name": "stdout",
     "output_type": "stream",
     "text": [
      "step 999437\t Time: 96.73 \t Percentage: 99.94% \t Alpha: 0.005 \t Epsilon: 0.005 \t Err: 0.007 \t Win_Rate: 88.286"
     ]
    },
    {
     "data": {
      "image/png": "[encoded data removed]",
      "text/plain": [
       "<Figure size 432x288 with 1 Axes>"
      ]
     },
     "metadata": {
      "needs_background": "light",
      "tags": []
     },
     "output_type": "display_data"
    },
    {
     "data": {
      "text/plain": [
       "<Figure size 432x288 with 0 Axes>"
      ]
     },
     "metadata": {
      "tags": []
     },
     "output_type": "display_data"
    }
   ],
   "source": [
    "Result = Q_Learning(env, playerA, playerB, start_randomize = False, greenwald_off_policy = False)\n",
    "file_name = \"/content/drive/MyDrive/Colab Notebooks/CEQ/QvsRandom-strictStart-onPolicy\"\n",
    "\n",
    "df = pd.DataFrame(Result, columns = [\"Itteration\",\"Error\", \"WinRate\"])\n",
    "df.to_csv(file_name, index=False)\n",
    "\n",
    "graph_error(df[\"Error\"], df[\"Itteration\"], name=\"Q vs Random\", linewidth = 1)"
   ]
  },
  {
   "cell_type": "code",
   "execution_count": null,
   "id": "pmZ9luvl3YfR",
   "metadata": {
    "colab": {
     "base_uri": "https://localhost:8080/",
     "height": 300
    },
    "executionInfo": {
     "elapsed": 1102,
     "status": "ok",
     "timestamp": 1626801274223,
     "user": {
      "displayName": "Adarsh Gouda",
      "photoUrl": "https://lh3.googleusercontent.com/a-/AOh14GiLxey_F4S6zXQQzRixQirKM2ByMsjtktDTWY5hdw=s64",
      "userId": "10706865863009541265"
     },
     "user_tz": 360
    },
    "id": "pmZ9luvl3YfR",
    "outputId": "4d3f0273-51d5-4de7-b479-9c62235ca763"
   },
   "outputs": [
    {
     "data": {
      "text/plain": [
       "(0.0, 100.0)"
      ]
     },
     "execution_count": 28,
     "metadata": {
      "tags": []
     },
     "output_type": "execute_result"
    },
    {
     "data": {
      "image/png": "[encoded data removed]",
      "text/plain": [
       "<Figure size 432x288 with 2 Axes>"
      ]
     },
     "metadata": {
      "needs_background": "light",
      "tags": []
     },
     "output_type": "display_data"
    }
   ],
   "source": [
    "ax = df.plot(\"Itteration\",\"Error\")\n",
    "plt.ylim(0, 0.5)\n",
    "ax1 = ax.twinx()\n",
    "df.plot(\"Itteration\",\"WinRate\",ax=ax1, color='r')\n",
    "plt.ylim(0, 100)"
   ]
  },
  {
   "cell_type": "code",
   "execution_count": null,
   "id": "18b32d38-ef15-4a23-95de-bc8851770f11",
   "metadata": {
    "id": "18b32d38-ef15-4a23-95de-bc8851770f11"
   },
   "outputs": [],
   "source": []
  },
  {
   "cell_type": "code",
   "execution_count": null,
   "id": "1ace2f7f-d357-43ce-9cc2-7d4c8a04ae0b",
   "metadata": {
    "id": "1ace2f7f-d357-43ce-9cc2-7d4c8a04ae0b"
   },
   "outputs": [],
   "source": []
  },
  {
   "cell_type": "code",
   "execution_count": null,
   "id": "1f518272-8173-44b6-8fb8-6afde5c955f8",
   "metadata": {
    "id": "1f518272-8173-44b6-8fb8-6afde5c955f8"
   },
   "outputs": [],
   "source": []
  },
  {
   "cell_type": "code",
   "execution_count": null,
   "id": "68c04150-7b7d-4f55-ba68-87a81ea6bc4f",
   "metadata": {
    "id": "68c04150-7b7d-4f55-ba68-87a81ea6bc4f"
   },
   "outputs": [],
   "source": []
  },
  {
   "cell_type": "code",
   "execution_count": null,
   "id": "6aecffce-9855-43c0-b0c8-bf66d4887729",
   "metadata": {
    "id": "6aecffce-9855-43c0-b0c8-bf66d4887729"
   },
   "outputs": [],
   "source": []
  },
  {
   "cell_type": "code",
   "execution_count": null,
   "id": "97fda021-e61c-4bb0-bef7-940cd8b25acc",
   "metadata": {
    "id": "97fda021-e61c-4bb0-bef7-940cd8b25acc"
   },
   "outputs": [],
   "source": []
  },
  {
   "cell_type": "code",
   "execution_count": null,
   "id": "fbd0c7c5-4f4e-4b30-bf33-bbb4e5817853",
   "metadata": {
    "id": "fbd0c7c5-4f4e-4b30-bf33-bbb4e5817853"
   },
   "outputs": [],
   "source": []
  },
  {
   "cell_type": "code",
   "execution_count": null,
   "id": "f87041f9-0b92-4f4c-9d7e-0978c8f5389e",
   "metadata": {
    "id": "f87041f9-0b92-4f4c-9d7e-0978c8f5389e"
   },
   "outputs": [],
   "source": []
  },
  {
   "cell_type": "code",
   "execution_count": null,
   "id": "76f7eb49-78a9-4723-abb7-4239db656a9a",
   "metadata": {
    "id": "76f7eb49-78a9-4723-abb7-4239db656a9a"
   },
   "outputs": [],
   "source": []
  },
  {
   "cell_type": "code",
   "execution_count": null,
   "id": "0b7e7321-9ea5-40e5-a68f-d6a08c7dc58a",
   "metadata": {
    "id": "0b7e7321-9ea5-40e5-a68f-d6a08c7dc58a"
   },
   "outputs": [],
   "source": []
  },
  {
   "cell_type": "code",
   "execution_count": null,
   "id": "30137fd3-44af-4eb3-97e7-25453c60efa6",
   "metadata": {
    "id": "30137fd3-44af-4eb3-97e7-25453c60efa6"
   },
   "outputs": [],
   "source": []
  },
  {
   "cell_type": "code",
   "execution_count": null,
   "id": "a4f4367c-ed1d-47e8-a020-3232ea4b3f3f",
   "metadata": {
    "id": "a4f4367c-ed1d-47e8-a020-3232ea4b3f3f"
   },
   "outputs": [],
   "source": []
  },
  {
   "cell_type": "code",
   "execution_count": null,
   "id": "af8b7cd7-d5c5-4d20-9c6e-914080012eaa",
   "metadata": {
    "id": "af8b7cd7-d5c5-4d20-9c6e-914080012eaa"
   },
   "outputs": [],
   "source": []
  },
  {
   "cell_type": "code",
   "execution_count": null,
   "id": "9521bf82-6683-4a10-83f7-b682dea8861a",
   "metadata": {
    "id": "9521bf82-6683-4a10-83f7-b682dea8861a"
   },
   "outputs": [],
   "source": []
  },
  {
   "cell_type": "code",
   "execution_count": null,
   "id": "a5cce75c-905c-4e19-bee0-c2145e40dc7b",
   "metadata": {
    "id": "a5cce75c-905c-4e19-bee0-c2145e40dc7b"
   },
   "outputs": [],
   "source": []
  },
  {
   "cell_type": "code",
   "execution_count": null,
   "id": "daf6c9c9-acb6-43f4-bb71-87d0a514d69a",
   "metadata": {
    "id": "daf6c9c9-acb6-43f4-bb71-87d0a514d69a"
   },
   "outputs": [],
   "source": []
  },
  {
   "cell_type": "code",
   "execution_count": null,
   "id": "c27bc332-9be6-448f-a8e3-71b9121cb406",
   "metadata": {
    "id": "c27bc332-9be6-448f-a8e3-71b9121cb406"
   },
   "outputs": [],
   "source": []
  },
  {
   "cell_type": "code",
   "execution_count": null,
   "id": "ca076c3e-5546-4901-8574-9caeb305426b",
   "metadata": {
    "id": "ca076c3e-5546-4901-8574-9caeb305426b"
   },
   "outputs": [],
   "source": []
  },
  {
   "cell_type": "code",
   "execution_count": null,
   "id": "b8f6381e-4bb7-450f-b71e-bb2592e3f52f",
   "metadata": {
    "id": "b8f6381e-4bb7-450f-b71e-bb2592e3f52f"
   },
   "outputs": [],
   "source": []
  },
  {
   "cell_type": "code",
   "execution_count": null,
   "id": "aeb059a4-f64d-466f-ae00-633b8028a123",
   "metadata": {
    "id": "aeb059a4-f64d-466f-ae00-633b8028a123"
   },
   "outputs": [],
   "source": []
  },
  {
   "cell_type": "code",
   "execution_count": null,
   "id": "0b9aaa06-6316-4f58-a3d4-1b8eb0394df4",
   "metadata": {
    "id": "0b9aaa06-6316-4f58-a3d4-1b8eb0394df4"
   },
   "outputs": [],
   "source": []
  },
  {
   "cell_type": "code",
   "execution_count": null,
   "id": "7a5acf78-7f40-4639-9daa-f55c8c4ed768",
   "metadata": {
    "id": "7a5acf78-7f40-4639-9daa-f55c8c4ed768"
   },
   "outputs": [],
   "source": []
  },
  {
   "cell_type": "code",
   "execution_count": null,
   "id": "c3a4f9cf-cdc3-42e2-873a-468c3cb1dc47",
   "metadata": {
    "id": "c3a4f9cf-cdc3-42e2-873a-468c3cb1dc47"
   },
   "outputs": [],
   "source": []
  },
  {
   "cell_type": "code",
   "execution_count": null,
   "id": "dc5cc937-08ce-4a5b-bb0d-69c772a873c8",
   "metadata": {
    "id": "dc5cc937-08ce-4a5b-bb0d-69c772a873c8"
   },
   "outputs": [],
   "source": []
  },
  {
   "cell_type": "code",
   "execution_count": null,
   "id": "93083d0b-8168-4ca9-9947-320624c8d4e3",
   "metadata": {
    "id": "93083d0b-8168-4ca9-9947-320624c8d4e3"
   },
   "outputs": [],
   "source": []
  },
  {
   "cell_type": "code",
   "execution_count": null,
   "id": "7012556e-e94a-4c60-ac74-3cdf30702898",
   "metadata": {
    "id": "7012556e-e94a-4c60-ac74-3cdf30702898"
   },
   "outputs": [],
   "source": []
  },
  {
   "cell_type": "code",
   "execution_count": null,
   "id": "29b279d3-60d9-425c-9792-41f799937452",
   "metadata": {
    "id": "29b279d3-60d9-425c-9792-41f799937452"
   },
   "outputs": [],
   "source": []
  },
  {
   "cell_type": "code",
   "execution_count": null,
   "id": "fe830958-1115-4fdb-9fd1-9c6633d780b3",
   "metadata": {
    "id": "fe830958-1115-4fdb-9fd1-9c6633d780b3"
   },
   "outputs": [],
   "source": []
  },
  {
   "cell_type": "code",
   "execution_count": null,
   "id": "2d482824-fc15-4d03-96ec-b1a129bfd795",
   "metadata": {
    "id": "2d482824-fc15-4d03-96ec-b1a129bfd795"
   },
   "outputs": [],
   "source": []
  },
  {
   "cell_type": "code",
   "execution_count": null,
   "id": "5e97fa16-2824-449b-beb6-37128b5f34c8",
   "metadata": {
    "id": "5e97fa16-2824-449b-beb6-37128b5f34c8"
   },
   "outputs": [],
   "source": []
  },
  {
   "cell_type": "code",
   "execution_count": null,
   "id": "77ccd3a2-1b80-4c5c-aafc-9e83cf67c4b1",
   "metadata": {
    "id": "77ccd3a2-1b80-4c5c-aafc-9e83cf67c4b1"
   },
   "outputs": [],
   "source": []
  },
  {
   "cell_type": "code",
   "execution_count": null,
   "id": "fe52bc76-1b29-430f-a7a5-98badc98f40c",
   "metadata": {
    "id": "fe52bc76-1b29-430f-a7a5-98badc98f40c"
   },
   "outputs": [],
   "source": []
  },
  {
   "cell_type": "code",
   "execution_count": null,
   "id": "dff5a5e1-83b3-4fcf-9b82-6b5c3b964ce9",
   "metadata": {
    "id": "dff5a5e1-83b3-4fcf-9b82-6b5c3b964ce9"
   },
   "outputs": [],
   "source": []
  },
  {
   "cell_type": "code",
   "execution_count": null,
   "id": "c03ebb4d-b9c4-4933-9d7f-55dbe30a294a",
   "metadata": {
    "id": "c03ebb4d-b9c4-4933-9d7f-55dbe30a294a"
   },
   "outputs": [],
   "source": []
  },
  {
   "cell_type": "code",
   "execution_count": null,
   "id": "376548cb-b537-415d-a54e-f5f27a826a82",
   "metadata": {
    "id": "376548cb-b537-415d-a54e-f5f27a826a82"
   },
   "outputs": [],
   "source": []
  },
  {
   "cell_type": "code",
   "execution_count": null,
   "id": "ed241ff7-4167-498f-bca7-83d94384b882",
   "metadata": {
    "id": "ed241ff7-4167-498f-bca7-83d94384b882"
   },
   "outputs": [],
   "source": []
  },
  {
   "cell_type": "code",
   "execution_count": null,
   "id": "7747b882-a24c-4f7b-b4b9-46bfb824cae7",
   "metadata": {
    "id": "7747b882-a24c-4f7b-b4b9-46bfb824cae7"
   },
   "outputs": [],
   "source": []
  },
  {
   "cell_type": "code",
   "execution_count": null,
   "id": "c9d3b56b-0df1-455c-8657-699f1d9095f8",
   "metadata": {
    "id": "c9d3b56b-0df1-455c-8657-699f1d9095f8"
   },
   "outputs": [],
   "source": []
  },
  {
   "cell_type": "code",
   "execution_count": null,
   "id": "e57ed4da-dca8-488c-ac89-a8721e2de17f",
   "metadata": {
    "id": "e57ed4da-dca8-488c-ac89-a8721e2de17f"
   },
   "outputs": [],
   "source": []
  },
  {
   "cell_type": "code",
   "execution_count": null,
   "id": "bf7e5119-6609-48f0-9476-6eb02ff39d37",
   "metadata": {
    "id": "bf7e5119-6609-48f0-9476-6eb02ff39d37"
   },
   "outputs": [],
   "source": []
  },
  {
   "cell_type": "code",
   "execution_count": null,
   "id": "dddacb5d-0f85-4fb6-ac02-7173b604cb58",
   "metadata": {
    "id": "dddacb5d-0f85-4fb6-ac02-7173b604cb58"
   },
   "outputs": [],
   "source": []
  },
  {
   "cell_type": "code",
   "execution_count": null,
   "id": "333b2116-4d12-4604-bf52-af5408d167ae",
   "metadata": {
    "id": "333b2116-4d12-4604-bf52-af5408d167ae"
   },
   "outputs": [],
   "source": []
  },
  {
   "cell_type": "code",
   "execution_count": null,
   "id": "50dd60ed-944c-492a-8588-27eab2e99f81",
   "metadata": {
    "id": "50dd60ed-944c-492a-8588-27eab2e99f81"
   },
   "outputs": [],
   "source": []
  },
  {
   "cell_type": "code",
   "execution_count": null,
   "id": "0c7f2092-e2b4-4d6f-9ed7-c817d7e8b80e",
   "metadata": {
    "id": "0c7f2092-e2b4-4d6f-9ed7-c817d7e8b80e"
   },
   "outputs": [],
   "source": []
  },
  {
   "cell_type": "code",
   "execution_count": null,
   "id": "3a0eb37d-b571-4a34-8251-92f28c43b93c",
   "metadata": {
    "id": "3a0eb37d-b571-4a34-8251-92f28c43b93c"
   },
   "outputs": [],
   "source": []
  }
 ],
 "metadata": {
  "colab": {
   "collapsed_sections": [],
   "name": "Q-Random.ipynb",
   "provenance": []
  },
  "kernelspec": {
   "display_name": "Python 3",
   "language": "python",
   "name": "python3"
  },
  "language_info": {
   "codemirror_mode": {
    "name": "ipython",
    "version": 3
   },
   "file_extension": ".py",
   "mimetype": "text/x-python",
   "name": "python",
   "nbconvert_exporter": "python",
   "pygments_lexer": "ipython3",
   "version": "3.8.10"
  }
 },
 "nbformat": 4,
 "nbformat_minor": 5
}
